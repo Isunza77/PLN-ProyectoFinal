{
 "cells": [
  {
   "cell_type": "code",
   "execution_count": 2,
   "metadata": {},
   "outputs": [
    {
     "name": "stdout",
     "output_type": "stream",
     "text": [
      "Collecting pyss3\n",
      "  Downloading pyss3-0.6.4-py3-none-any.whl (2.0 MB)\n",
      "Requirement already satisfied: matplotlib in c:\\users\\feris\\anaconda3\\lib\\site-packages (from pyss3) (3.1.3)\n",
      "Requirement already satisfied: six in c:\\users\\feris\\anaconda3\\lib\\site-packages (from pyss3) (1.15.0)\n",
      "Requirement already satisfied: tqdm>=4.8.4 in c:\\users\\feris\\anaconda3\\lib\\site-packages (from pyss3) (4.42.1)\n",
      "Requirement already satisfied: scikit-learn[alldeps]>=0.20 in c:\\users\\feris\\anaconda3\\lib\\site-packages (from pyss3) (0.22.1)\n",
      "Collecting iterative-stratification\n",
      "  Downloading iterative_stratification-0.1.6-py3-none-any.whl (8.7 kB)\n",
      "Requirement already satisfied: cython in c:\\users\\feris\\anaconda3\\lib\\site-packages (from pyss3) (0.29.15)\n",
      "Requirement already satisfied: joblib>=0.11 in c:\\users\\feris\\anaconda3\\lib\\site-packages (from scikit-learn[alldeps]>=0.20->pyss3) (0.14.1)\n",
      "Requirement already satisfied: numpy>=1.11.0 in c:\\users\\feris\\anaconda3\\lib\\site-packages (from scikit-learn[alldeps]>=0.20->pyss3) (1.19.5)\n",
      "Requirement already satisfied: scipy>=0.17.0 in c:\\users\\feris\\anaconda3\\lib\\site-packages (from scikit-learn[alldeps]>=0.20->pyss3) (1.4.1)\n",
      "Requirement already satisfied: pyparsing!=2.0.4,!=2.1.2,!=2.1.6,>=2.0.1 in c:\\users\\feris\\anaconda3\\lib\\site-packages (from matplotlib->pyss3) (2.4.6)\n",
      "Requirement already satisfied: kiwisolver>=1.0.1 in c:\\users\\feris\\anaconda3\\lib\\site-packages (from matplotlib->pyss3) (1.1.0)\n",
      "Requirement already satisfied: python-dateutil>=2.1 in c:\\users\\feris\\anaconda3\\lib\\site-packages (from matplotlib->pyss3) (2.8.1)\n",
      "Requirement already satisfied: cycler>=0.10 in c:\\users\\feris\\anaconda3\\lib\\site-packages (from matplotlib->pyss3) (0.10.0)\n",
      "Requirement already satisfied: setuptools in c:\\users\\feris\\anaconda3\\lib\\site-packages (from kiwisolver>=1.0.1->matplotlib->pyss3) (45.2.0.post20200210)\n",
      "Installing collected packages: iterative-stratification, pyss3\n",
      "Successfully installed iterative-stratification-0.1.6 pyss3-0.6.4\n"
     ]
    },
    {
     "name": "stderr",
     "output_type": "stream",
     "text": [
      "WARNING: You are using pip version 21.0.1; however, version 21.1.2 is available.\n",
      "You should consider upgrading via the 'c:\\users\\feris\\anaconda3\\python.exe -m pip install --upgrade pip' command.\n"
     ]
    }
   ],
   "source": [
    "!pip install pyss3"
   ]
  },
  {
   "cell_type": "code",
   "execution_count": 3,
   "metadata": {},
   "outputs": [],
   "source": [
    "%matplotlib inline\n",
    "import re\n",
    "\n",
    "from pyss3 import SS3\n",
    "from pyss3.util import Dataset, Evaluation, span\n",
    "from pyss3.server import Live_Test\n",
    "\n",
    "from sklearn.metrics import accuracy_score\n",
    "from nltk.stem import SnowballStemmer"
   ]
  },
  {
   "cell_type": "code",
   "execution_count": null,
   "metadata": {},
   "outputs": [],
   "source": []
  }
 ],
 "metadata": {
  "kernelspec": {
   "display_name": "Python 3",
   "language": "python",
   "name": "python3"
  },
  "language_info": {
   "codemirror_mode": {
    "name": "ipython",
    "version": 3
   },
   "file_extension": ".py",
   "mimetype": "text/x-python",
   "name": "python",
   "nbconvert_exporter": "python",
   "pygments_lexer": "ipython3",
   "version": "3.7.6"
  }
 },
 "nbformat": 4,
 "nbformat_minor": 4
}
