{
 "cells": [
  {
   "cell_type": "code",
   "execution_count": 2,
   "metadata": {},
   "outputs": [
    {
     "name": "stdout",
     "output_type": "stream",
     "text": [
      "Collecting pyss3\n",
      "  Downloading pyss3-0.6.4-py3-none-any.whl (2.0 MB)\n",
      "Requirement already satisfied: matplotlib in c:\\users\\feris\\anaconda3\\lib\\site-packages (from pyss3) (3.1.3)\n",
      "Requirement already satisfied: six in c:\\users\\feris\\anaconda3\\lib\\site-packages (from pyss3) (1.15.0)\n",
      "Requirement already satisfied: tqdm>=4.8.4 in c:\\users\\feris\\anaconda3\\lib\\site-packages (from pyss3) (4.42.1)\n",
      "Requirement already satisfied: scikit-learn[alldeps]>=0.20 in c:\\users\\feris\\anaconda3\\lib\\site-packages (from pyss3) (0.22.1)\n",
      "Collecting iterative-stratification\n",
      "  Downloading iterative_stratification-0.1.6-py3-none-any.whl (8.7 kB)\n",
      "Requirement already satisfied: cython in c:\\users\\feris\\anaconda3\\lib\\site-packages (from pyss3) (0.29.15)\n",
      "Requirement already satisfied: joblib>=0.11 in c:\\users\\feris\\anaconda3\\lib\\site-packages (from scikit-learn[alldeps]>=0.20->pyss3) (0.14.1)\n",
      "Requirement already satisfied: numpy>=1.11.0 in c:\\users\\feris\\anaconda3\\lib\\site-packages (from scikit-learn[alldeps]>=0.20->pyss3) (1.19.5)\n",
      "Requirement already satisfied: scipy>=0.17.0 in c:\\users\\feris\\anaconda3\\lib\\site-packages (from scikit-learn[alldeps]>=0.20->pyss3) (1.4.1)\n",
      "Requirement already satisfied: pyparsing!=2.0.4,!=2.1.2,!=2.1.6,>=2.0.1 in c:\\users\\feris\\anaconda3\\lib\\site-packages (from matplotlib->pyss3) (2.4.6)\n",
      "Requirement already satisfied: kiwisolver>=1.0.1 in c:\\users\\feris\\anaconda3\\lib\\site-packages (from matplotlib->pyss3) (1.1.0)\n",
      "Requirement already satisfied: python-dateutil>=2.1 in c:\\users\\feris\\anaconda3\\lib\\site-packages (from matplotlib->pyss3) (2.8.1)\n",
      "Requirement already satisfied: cycler>=0.10 in c:\\users\\feris\\anaconda3\\lib\\site-packages (from matplotlib->pyss3) (0.10.0)\n",
      "Requirement already satisfied: setuptools in c:\\users\\feris\\anaconda3\\lib\\site-packages (from kiwisolver>=1.0.1->matplotlib->pyss3) (45.2.0.post20200210)\n",
      "Installing collected packages: iterative-stratification, pyss3\n",
      "Successfully installed iterative-stratification-0.1.6 pyss3-0.6.4\n"
     ]
    },
    {
     "name": "stderr",
     "output_type": "stream",
     "text": [
      "WARNING: You are using pip version 21.0.1; however, version 21.1.2 is available.\n",
      "You should consider upgrading via the 'c:\\users\\feris\\anaconda3\\python.exe -m pip install --upgrade pip' command.\n"
     ]
    }
   ],
   "source": [
    "!pip install pyss3"
   ]
  },
  {
   "cell_type": "code",
   "execution_count": 209,
   "metadata": {},
   "outputs": [],
   "source": [
    "\n",
    "import re\n",
    "import pandas as pd\n",
    "from pyss3 import SS3\n",
    "import pickle\n",
    "import seaborn as sn\n",
    "\n",
    "from pyss3.util import Dataset, Evaluation, span\n",
    "from pyss3.server import Live_Test\n",
    "import matplotlib.pyplot as plt\n",
    "%matplotlib inline\n",
    "from sklearn.metrics import plot_confusion_matrix\n",
    "from sklearn.model_selection import GridSearchCV\n",
    "from sklearn.metrics import accuracy_score, recall_score, precision_score, confusion_matrix\n",
    "from nltk.stem import SnowballStemmer\n",
    "from sklearn.model_selection import train_test_split"
   ]
  },
  {
   "cell_type": "markdown",
   "metadata": {},
   "source": [
    "# Carga y preprocesamiento de Data"
   ]
  },
  {
   "cell_type": "code",
   "execution_count": 207,
   "metadata": {},
   "outputs": [],
   "source": [
    "Predict=pd.read_csv('Data/Test/pruebatest.csv',engine='python')\n",
    "Data=pd.read_csv('Data/Train/pruebatrain.csv',engine='python')"
   ]
  },
  {
   "cell_type": "code",
   "execution_count": 33,
   "metadata": {},
   "outputs": [],
   "source": [
    "X_train, X_test, Y_train, Y_test= train_test_split(Data[\"tweetstop\"],Data[\"Depressed\"],test_size=.2, random_state=54)"
   ]
  },
  {
   "cell_type": "code",
   "execution_count": 68,
   "metadata": {},
   "outputs": [
    {
     "name": "stdout",
     "output_type": "stream",
     "text": [
      "Numero de Datos 10190\n",
      "Numero de tweets con depresion 5066.0 Porcentaje 0.4971540726202159\n",
      "Numero de tweets sin depresion 5124.0 Porcentaje 0.5028459273797841\n"
     ]
    }
   ],
   "source": [
    "print(\"Numero de Datos\",Data.shape[0])\n",
    "print(\"Numero de tweets con depresion\",Data[\"Depressed\"].sum(),\"Porcentaje\",Data[\"Depressed\"].sum()/Data.shape[0])\n",
    "print(\"Numero de tweets sin depresion\",Data.shape[0]-Data[\"Depressed\"].sum(),\"Porcentaje\",(Data.shape[0]-Data[\"Depressed\"].sum())/Data.shape[0])"
   ]
  },
  {
   "cell_type": "code",
   "execution_count": 35,
   "metadata": {},
   "outputs": [],
   "source": [
    "#Para el pre procesamiento se utilizara un simple stemming\n",
    "stemmer = SnowballStemmer('english')\n",
    "\n",
    "def stem(match):\n",
    "    return stemmer.stem(match.group(0))\n",
    "\n",
    "def my_preprocessing(text):\n",
    "    return re.sub(r\"\\w+\", stem, text)"
   ]
  },
  {
   "cell_type": "code",
   "execution_count": 44,
   "metadata": {},
   "outputs": [],
   "source": [
    "x_train_prep = [my_preprocessing(str(X_train.iloc[i])) for i in range(X_train.size)]\n",
    "x_test_prep = [my_preprocessing(str(X_test.iloc[i])) for i in range(X_test.size)]"
   ]
  },
  {
   "cell_type": "markdown",
   "metadata": {},
   "source": [
    "# Entrenamiento de Modelo y busqueda de hyperparametros"
   ]
  },
  {
   "cell_type": "code",
   "execution_count": 214,
   "metadata": {},
   "outputs": [],
   "source": [
    "clf = SS3(s=.2, l=.1, p=.5)\n",
    "clf.train(x_train_prep, Y_train, n_grams=3, prep=False)"
   ]
  },
  {
   "cell_type": "markdown",
   "metadata": {},
   "source": [
    "### Recall =$\\frac{TP}{TP+FN}$\n",
    "### Precision =$\\frac{TP}{TP+FP}$\n",
    "### Accuracy=$\\frac{TP+TN}{TP+FN+TN+FP}$\n",
    "TP= True Positive, \n",
    "TN= True Negative,\n",
    "FP= False Positive, \n",
    "FN= False Negative"
   ]
  },
  {
   "cell_type": "code",
   "execution_count": 215,
   "metadata": {},
   "outputs": [
    {
     "name": "stdout",
     "output_type": "stream",
     "text": [
      "Accuracy was: 0.7168792934249264\n",
      "Recall : 0.7089898053753475\n",
      "Precision : 0.7441634241245136\n"
     ]
    },
    {
     "data": {
      "image/png": "[encoded data removed]",
      "text/plain": [
       "<Figure size 432x288 with 2 Axes>"
      ]
     },
     "metadata": {
      "needs_background": "light"
     },
     "output_type": "display_data"
    }
   ],
   "source": [
    "from sklearn.metrics import confusion_matrix\n",
    "y_pred = clf.predict(x_test_prep, prep=False)\n",
    "accuracy = accuracy_score(y_pred, Y_test)\n",
    "print(\"Accuracy was:\", accuracy)\n",
    "print(\"Recall :\",recall_score(y_pred,Y_test))\n",
    "print(\"Precision :\",precision_score(y_pred,Y_test))\n",
    "C=confusion_matrix(Y_test, y_pred)\n",
    "sn.heatmap(C, annot=True,fmt=\"d\")\n",
    "plt.xlabel(\"Predicted\")\n",
    "plt.ylabel(\"True\")\n",
    "plt.show()"
   ]
  },
  {
   "cell_type": "code",
   "execution_count": 216,
   "metadata": {},
   "outputs": [],
   "source": [
    "clf = SS3(s=.3, l=.5, p=.4)\n",
    "clf.train(x_train_prep, Y_train, n_grams=3, prep=False)"
   ]
  },
  {
   "cell_type": "code",
   "execution_count": 217,
   "metadata": {},
   "outputs": [
    {
     "name": "stdout",
     "output_type": "stream",
     "text": [
      "Accuracy was: 0.7855740922473012\n",
      "Recall : 0.9191489361702128\n",
      "Precision : 0.6303501945525292\n"
     ]
    },
    {
     "data": {
      "image/png": "[encoded data removed]",
      "text/plain": [
       "<Figure size 432x288 with 2 Axes>"
      ]
     },
     "metadata": {
      "needs_background": "light"
     },
     "output_type": "display_data"
    }
   ],
   "source": [
    "from sklearn.metrics import confusion_matrix\n",
    "y_pred = clf.predict(x_test_prep, prep=False)\n",
    "accuracy = accuracy_score(y_pred, Y_test)\n",
    "print(\"Accuracy was:\", accuracy)\n",
    "print(\"Recall :\",recall_score(y_pred,Y_test))\n",
    "print(\"Precision :\",precision_score(y_pred,Y_test))\n",
    "C=confusion_matrix(Y_test, y_pred)\n",
    "sn.heatmap(C, annot=True,fmt=\"d\")\n",
    "plt.xlabel(\"Predicted\")\n",
    "plt.ylabel(\"True\")\n",
    "plt.show()"
   ]
  },
  {
   "cell_type": "code",
   "execution_count": 218,
   "metadata": {},
   "outputs": [],
   "source": [
    "clf = SS3(s=.5, l=.4, p=.6)\n",
    "\n",
    "clf.train(x_train_prep, Y_train, n_grams=3, prep=False)"
   ]
  },
  {
   "cell_type": "code",
   "execution_count": 219,
   "metadata": {},
   "outputs": [
    {
     "name": "stdout",
     "output_type": "stream",
     "text": [
      "Accuracy was: 0.7154072620215898\n",
      "Recall : 0.9426877470355731\n",
      "Precision : 0.46400778210116733\n"
     ]
    },
    {
     "data": {
      "image/png": "[encoded data removed]",
      "text/plain": [
       "<Figure size 432x288 with 2 Axes>"
      ]
     },
     "metadata": {
      "needs_background": "light"
     },
     "output_type": "display_data"
    }
   ],
   "source": [
    "from sklearn.metrics import confusion_matrix\n",
    "y_pred = clf.predict(x_test_prep, prep=False)\n",
    "accuracy = accuracy_score(y_pred, Y_test)\n",
    "print(\"Accuracy was:\", accuracy)\n",
    "print(\"Recall :\",recall_score(y_pred,Y_test))\n",
    "print(\"Precision :\",precision_score(y_pred,Y_test))\n",
    "C=confusion_matrix(Y_test, y_pred)\n",
    "sn.heatmap(C, annot=True,fmt=\"d\")\n",
    "plt.xlabel(\"Predicted\")\n",
    "plt.ylabel(\"True\")\n",
    "plt.show()"
   ]
  },
  {
   "cell_type": "code",
   "execution_count": 220,
   "metadata": {},
   "outputs": [],
   "source": [
    "clf = SS3(s=.25, l=.5, p=.5)\n",
    "\n",
    "clf.train(x_train_prep, Y_train, n_grams=3, prep=False)"
   ]
  },
  {
   "cell_type": "code",
   "execution_count": 221,
   "metadata": {},
   "outputs": [
    {
     "name": "stdout",
     "output_type": "stream",
     "text": [
      "Accuracy was: 0.8400392541707556\n",
      "Recall : 0.8926174496644296\n",
      "Precision : 0.7762645914396887\n"
     ]
    },
    {
     "data": {
      "image/png": "[encoded data removed]",
      "text/plain": [
       "<Figure size 432x288 with 2 Axes>"
      ]
     },
     "metadata": {
      "needs_background": "light"
     },
     "output_type": "display_data"
    }
   ],
   "source": [
    "from sklearn.metrics import confusion_matrix\n",
    "y_pred = clf.predict(x_test_prep, prep=False)\n",
    "accuracy = accuracy_score(y_pred, Y_test)\n",
    "print(\"Accuracy was:\", accuracy)\n",
    "print(\"Recall :\",recall_score(y_pred,Y_test))\n",
    "print(\"Precision :\",precision_score(y_pred,Y_test))\n",
    "C=confusion_matrix(Y_test, y_pred)\n",
    "sn.heatmap(C, annot=True,fmt=\"d\")\n",
    "plt.xlabel(\"Predicted\")\n",
    "plt.ylabel(\"True\")\n",
    "plt.show()"
   ]
  },
  {
   "cell_type": "code",
   "execution_count": 222,
   "metadata": {},
   "outputs": [],
   "source": [
    "clf = SS3(s=.25, l=.4, p=.55)\n",
    "\n",
    "clf.train(x_train_prep, Y_train, n_grams=3, prep=False)"
   ]
  },
  {
   "cell_type": "code",
   "execution_count": 223,
   "metadata": {},
   "outputs": [
    {
     "name": "stdout",
     "output_type": "stream",
     "text": [
      "Accuracy was: 0.8258096172718351\n",
      "Recall : 0.8899188876013905\n",
      "Precision : 0.7470817120622568\n"
     ]
    },
    {
     "data": {
      "image/png": "[encoded data removed]",
      "text/plain": [
       "<Figure size 432x288 with 2 Axes>"
      ]
     },
     "metadata": {
      "needs_background": "light"
     },
     "output_type": "display_data"
    }
   ],
   "source": [
    "from sklearn.metrics import confusion_matrix\n",
    "y_pred = clf.predict(x_test_prep, prep=False)\n",
    "accuracy = accuracy_score(y_pred, Y_test)\n",
    "print(\"Accuracy was:\", accuracy)\n",
    "print(\"Recall :\",recall_score(y_pred,Y_test))\n",
    "print(\"Precision :\",precision_score(y_pred,Y_test))\n",
    "C=confusion_matrix(Y_test, y_pred)\n",
    "sn.heatmap(C, annot=True,fmt=\"d\")\n",
    "plt.xlabel(\"Predicted\")\n",
    "plt.ylabel(\"True\")\n",
    "plt.show()"
   ]
  },
  {
   "cell_type": "code",
   "execution_count": 230,
   "metadata": {},
   "outputs": [],
   "source": [
    "clf = SS3(s=.25, l=.4, p=.1)\n",
    "\n",
    "clf.train(x_train_prep, Y_train, n_grams=3, prep=False)"
   ]
  },
  {
   "cell_type": "code",
   "execution_count": 231,
   "metadata": {},
   "outputs": [
    {
     "name": "stdout",
     "output_type": "stream",
     "text": [
      "Accuracy was: 0.8258096172718351\n",
      "Recall : 0.8899188876013905\n",
      "Precision : 0.7470817120622568\n"
     ]
    },
    {
     "data": {
      "image/png": "[encoded data removed]",
      "text/plain": [
       "<Figure size 432x288 with 2 Axes>"
      ]
     },
     "metadata": {
      "needs_background": "light"
     },
     "output_type": "display_data"
    }
   ],
   "source": [
    "from sklearn.metrics import confusion_matrix\n",
    "y_pred = clf.predict(x_test_prep, prep=False)\n",
    "accuracy = accuracy_score(y_pred, Y_test)\n",
    "print(\"Accuracy was:\", accuracy)\n",
    "print(\"Recall :\",recall_score(y_pred,Y_test))\n",
    "print(\"Precision :\",precision_score(y_pred,Y_test))\n",
    "C=confusion_matrix(Y_test, y_pred)\n",
    "sn.heatmap(C, annot=True,fmt=\"d\")\n",
    "plt.xlabel(\"Predicted\")\n",
    "plt.ylabel(\"True\")\n",
    "plt.show()"
   ]
  },
  {
   "cell_type": "markdown",
   "metadata": {},
   "source": [
    "# Se guarda Mejor Modelo"
   ]
  },
  {
   "cell_type": "code",
   "execution_count": 224,
   "metadata": {},
   "outputs": [
    {
     "name": "stdout",
     "output_type": "stream",
     "text": [
      "Accuracy was: 0.8400392541707556\n",
      "Recall : 0.8926174496644296\n",
      "Precision : 0.7762645914396887\n"
     ]
    },
    {
     "data": {
      "image/png": "[encoded data removed]",
      "text/plain": [
       "<Figure size 432x288 with 2 Axes>"
      ]
     },
     "metadata": {
      "needs_background": "light"
     },
     "output_type": "display_data"
    }
   ],
   "source": [
    "clf = SS3(s=.25, l=.5, p=.5)\n",
    "clf.train(x_train_prep, Y_train, n_grams=3, prep=False)\n",
    "from sklearn.metrics import confusion_matrix\n",
    "y_pred = clf.predict(x_test_prep, prep=False)\n",
    "accuracy = accuracy_score(y_pred, Y_test)\n",
    "print(\"Accuracy was:\", accuracy)\n",
    "print(\"Recall :\",recall_score(y_pred,Y_test))\n",
    "print(\"Precision :\",precision_score(y_pred,Y_test))\n",
    "C=confusion_matrix(Y_test, y_pred)\n",
    "sn.heatmap(C, annot=True,fmt=\"d\")\n",
    "plt.xlabel(\"Predicted\")\n",
    "plt.ylabel(\"True\")\n",
    "plt.show()"
   ]
  },
  {
   "cell_type": "code",
   "execution_count": 147,
   "metadata": {},
   "outputs": [
    {
     "name": "stdout",
     "output_type": "stream",
     "text": [
      "hello beautiful blue sky goodbye revision work\n"
     ]
    },
    {
     "data": {
      "text/plain": [
       "[0.0]"
      ]
     },
     "execution_count": 147,
     "metadata": {},
     "output_type": "execute_result"
    }
   ],
   "source": [
    "print(Predict.iloc[2][0])\n",
    "#Si tiene depresión marcara un 1\n",
    "clf.predict(Predict.iloc[2])"
   ]
  },
  {
   "cell_type": "code",
   "execution_count": 148,
   "metadata": {},
   "outputs": [
    {
     "name": "stdout",
     "output_type": "stream",
     "text": [
      "ahhh happy\n"
     ]
    },
    {
     "data": {
      "text/plain": [
       "[0.0]"
      ]
     },
     "execution_count": 148,
     "metadata": {},
     "output_type": "execute_result"
    }
   ],
   "source": [
    "print(Predict.iloc[3][0])\n",
    "#Si tiene depresión marcara un 1\n",
    "clf.predict(Predict.iloc[3])"
   ]
  },
  {
   "cell_type": "code",
   "execution_count": 153,
   "metadata": {},
   "outputs": [
    {
     "name": "stdout",
     "output_type": "stream",
     "text": [
      "love depressiondespair serious reality chemically andor philosophically youre youre alone life matters \n"
     ]
    },
    {
     "data": {
      "text/plain": [
       "[1.0]"
      ]
     },
     "execution_count": 153,
     "metadata": {},
     "output_type": "execute_result"
    }
   ],
   "source": [
    "print(Predict.iloc[1][0])\n",
    "#Si tiene depresión marcara un 1\n",
    "clf.predict(Predict.iloc[1])"
   ]
  },
  {
   "cell_type": "code",
   "execution_count": 154,
   "metadata": {},
   "outputs": [],
   "source": [
    "save_classifier = open(\"Models/SS3.pickle\",\"wb\")\n",
    "pickle.dump(clf, save_classifier)\n",
    "save_classifier.close()"
   ]
  }
 ],
 "metadata": {
  "kernelspec": {
   "display_name": "Python 3",
   "language": "python",
   "name": "python3"
  },
  "language_info": {
   "codemirror_mode": {
    "name": "ipython",
    "version": 3
   },
   "file_extension": ".py",
   "mimetype": "text/x-python",
   "name": "python",
   "nbconvert_exporter": "python",
   "pygments_lexer": "ipython3",
   "version": "3.7.6"
  }
 },
 "nbformat": 4,
 "nbformat_minor": 4
}
