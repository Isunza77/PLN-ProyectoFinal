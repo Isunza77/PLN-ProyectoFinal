{
 "cells": [
  {
   "cell_type": "code",
   "execution_count": 2,
   "metadata": {},
   "outputs": [
    {
     "name": "stdout",
     "output_type": "stream",
     "text": [
      "Collecting pyss3\n",
      "  Downloading pyss3-0.6.4-py3-none-any.whl (2.0 MB)\n",
      "Requirement already satisfied: matplotlib in c:\\users\\feris\\anaconda3\\lib\\site-packages (from pyss3) (3.1.3)\n",
      "Requirement already satisfied: six in c:\\users\\feris\\anaconda3\\lib\\site-packages (from pyss3) (1.15.0)\n",
      "Requirement already satisfied: tqdm>=4.8.4 in c:\\users\\feris\\anaconda3\\lib\\site-packages (from pyss3) (4.42.1)\n",
      "Requirement already satisfied: scikit-learn[alldeps]>=0.20 in c:\\users\\feris\\anaconda3\\lib\\site-packages (from pyss3) (0.22.1)\n",
      "Collecting iterative-stratification\n",
      "  Downloading iterative_stratification-0.1.6-py3-none-any.whl (8.7 kB)\n",
      "Requirement already satisfied: cython in c:\\users\\feris\\anaconda3\\lib\\site-packages (from pyss3) (0.29.15)\n",
      "Requirement already satisfied: joblib>=0.11 in c:\\users\\feris\\anaconda3\\lib\\site-packages (from scikit-learn[alldeps]>=0.20->pyss3) (0.14.1)\n",
      "Requirement already satisfied: numpy>=1.11.0 in c:\\users\\feris\\anaconda3\\lib\\site-packages (from scikit-learn[alldeps]>=0.20->pyss3) (1.19.5)\n",
      "Requirement already satisfied: scipy>=0.17.0 in c:\\users\\feris\\anaconda3\\lib\\site-packages (from scikit-learn[alldeps]>=0.20->pyss3) (1.4.1)\n",
      "Requirement already satisfied: pyparsing!=2.0.4,!=2.1.2,!=2.1.6,>=2.0.1 in c:\\users\\feris\\anaconda3\\lib\\site-packages (from matplotlib->pyss3) (2.4.6)\n",
      "Requirement already satisfied: kiwisolver>=1.0.1 in c:\\users\\feris\\anaconda3\\lib\\site-packages (from matplotlib->pyss3) (1.1.0)\n",
      "Requirement already satisfied: python-dateutil>=2.1 in c:\\users\\feris\\anaconda3\\lib\\site-packages (from matplotlib->pyss3) (2.8.1)\n",
      "Requirement already satisfied: cycler>=0.10 in c:\\users\\feris\\anaconda3\\lib\\site-packages (from matplotlib->pyss3) (0.10.0)\n",
      "Requirement already satisfied: setuptools in c:\\users\\feris\\anaconda3\\lib\\site-packages (from kiwisolver>=1.0.1->matplotlib->pyss3) (45.2.0.post20200210)\n",
      "Installing collected packages: iterative-stratification, pyss3\n",
      "Successfully installed iterative-stratification-0.1.6 pyss3-0.6.4\n"
     ]
    },
    {
     "name": "stderr",
     "output_type": "stream",
     "text": [
      "WARNING: You are using pip version 21.0.1; however, version 21.1.2 is available.\n",
      "You should consider upgrading via the 'c:\\users\\feris\\anaconda3\\python.exe -m pip install --upgrade pip' command.\n"
     ]
    }
   ],
   "source": [
    "!pip install pyss3"
   ]
  },
  {
   "cell_type": "code",
   "execution_count": 1,
   "metadata": {},
   "outputs": [],
   "source": [
    "\n",
    "import re\n",
    "import pandas as pd\n",
    "from pyss3 import SS3\n",
    "import pickle\n",
    "import seaborn as sn\n",
    "\n",
    "from pyss3.util import Dataset, Evaluation, span\n",
    "from pyss3.server import Live_Test\n",
    "import matplotlib.pyplot as plt\n",
    "%matplotlib inline\n",
    "from sklearn.metrics import plot_confusion_matrix\n",
    "from sklearn.model_selection import GridSearchCV\n",
    "from sklearn.metrics import accuracy_score, recall_score, precision_score, confusion_matrix\n",
    "from nltk.stem import SnowballStemmer\n",
    "from sklearn.model_selection import train_test_split"
   ]
  },
  {
   "cell_type": "markdown",
   "metadata": {},
   "source": [
    "# Carga y preprocesamiento de Data"
   ]
  },
  {
   "cell_type": "code",
   "execution_count": 2,
   "metadata": {},
   "outputs": [],
   "source": [
    "Data=pd.read_csv('Data/Fulldata.csv',engine='python')"
   ]
  },
  {
   "cell_type": "code",
   "execution_count": 3,
   "metadata": {},
   "outputs": [
    {
     "data": {
      "text/html": [
       "<div>\n",
       "<style scoped>\n",
       "    .dataframe tbody tr th:only-of-type {\n",
       "        vertical-align: middle;\n",
       "    }\n",
       "\n",
       "    .dataframe tbody tr th {\n",
       "        vertical-align: top;\n",
       "    }\n",
       "\n",
       "    .dataframe thead th {\n",
       "        text-align: right;\n",
       "    }\n",
       "</style>\n",
       "<table border=\"1\" class=\"dataframe\">\n",
       "  <thead>\n",
       "    <tr style=\"text-align: right;\">\n",
       "      <th></th>\n",
       "      <th>id</th>\n",
       "      <th>label</th>\n",
       "      <th>text</th>\n",
       "    </tr>\n",
       "  </thead>\n",
       "  <tbody>\n",
       "    <tr>\n",
       "      <th>0</th>\n",
       "      <td>0</td>\n",
       "      <td>0.0</td>\n",
       "      <td>just had a real good moment. i missssssssss hi...</td>\n",
       "    </tr>\n",
       "    <tr>\n",
       "      <th>1</th>\n",
       "      <td>1</td>\n",
       "      <td>0.0</td>\n",
       "      <td>is reading manga  http://plurk.com/p/mzp1e</td>\n",
       "    </tr>\n",
       "    <tr>\n",
       "      <th>2</th>\n",
       "      <td>2</td>\n",
       "      <td>0.0</td>\n",
       "      <td>@comeagainjen http://twitpic.com/2y2lx - http:...</td>\n",
       "    </tr>\n",
       "    <tr>\n",
       "      <th>3</th>\n",
       "      <td>3</td>\n",
       "      <td>0.0</td>\n",
       "      <td>@lapcat Need to send 'em to my accountant tomo...</td>\n",
       "    </tr>\n",
       "    <tr>\n",
       "      <th>4</th>\n",
       "      <td>4</td>\n",
       "      <td>0.0</td>\n",
       "      <td>ADD ME ON MYSPACE!!!  myspace.com/LookThunder</td>\n",
       "    </tr>\n",
       "    <tr>\n",
       "      <th>...</th>\n",
       "      <td>...</td>\n",
       "      <td>...</td>\n",
       "      <td>...</td>\n",
       "    </tr>\n",
       "    <tr>\n",
       "      <th>54347</th>\n",
       "      <td>54347</td>\n",
       "      <td>0.0</td>\n",
       "      <td>Donate to the Hawaii Food Bank TODAY!!</td>\n",
       "    </tr>\n",
       "    <tr>\n",
       "      <th>54348</th>\n",
       "      <td>54348</td>\n",
       "      <td>0.0</td>\n",
       "      <td>@dmlaenker - dunno who that is.  I'm too noobi...</td>\n",
       "    </tr>\n",
       "    <tr>\n",
       "      <th>54349</th>\n",
       "      <td>54349</td>\n",
       "      <td>0.0</td>\n",
       "      <td>Was so much fun just treat myself for a change...</td>\n",
       "    </tr>\n",
       "    <tr>\n",
       "      <th>54350</th>\n",
       "      <td>54350</td>\n",
       "      <td>0.0</td>\n",
       "      <td>really needed the night out. great tunes! tks ...</td>\n",
       "    </tr>\n",
       "    <tr>\n",
       "      <th>54351</th>\n",
       "      <td>54351</td>\n",
       "      <td>0.0</td>\n",
       "      <td>@aranarose Went there and did that! Nice surve...</td>\n",
       "    </tr>\n",
       "  </tbody>\n",
       "</table>\n",
       "<p>54352 rows × 3 columns</p>\n",
       "</div>"
      ],
      "text/plain": [
       "          id  label                                               text\n",
       "0          0    0.0  just had a real good moment. i missssssssss hi...\n",
       "1          1    0.0         is reading manga  http://plurk.com/p/mzp1e\n",
       "2          2    0.0  @comeagainjen http://twitpic.com/2y2lx - http:...\n",
       "3          3    0.0  @lapcat Need to send 'em to my accountant tomo...\n",
       "4          4    0.0      ADD ME ON MYSPACE!!!  myspace.com/LookThunder\n",
       "...      ...    ...                                                ...\n",
       "54347  54347    0.0            Donate to the Hawaii Food Bank TODAY!! \n",
       "54348  54348    0.0  @dmlaenker - dunno who that is.  I'm too noobi...\n",
       "54349  54349    0.0  Was so much fun just treat myself for a change...\n",
       "54350  54350    0.0  really needed the night out. great tunes! tks ...\n",
       "54351  54351    0.0  @aranarose Went there and did that! Nice surve...\n",
       "\n",
       "[54352 rows x 3 columns]"
      ]
     },
     "execution_count": 3,
     "metadata": {},
     "output_type": "execute_result"
    }
   ],
   "source": [
    "Data"
   ]
  },
  {
   "cell_type": "code",
   "execution_count": 4,
   "metadata": {},
   "outputs": [],
   "source": [
    "X_train, X_test, Y_train, Y_test= train_test_split(Data[\"text\"],Data[\"label\"],test_size=.2, random_state=54)"
   ]
  },
  {
   "cell_type": "code",
   "execution_count": 6,
   "metadata": {},
   "outputs": [
    {
     "name": "stdout",
     "output_type": "stream",
     "text": [
      "Numero de Datos 54352\n",
      "Numero de tweets con depresion 27176.0 Porcentaje 0.5\n",
      "Numero de tweets sin depresion 27176.0 Porcentaje 0.5\n"
     ]
    }
   ],
   "source": [
    "print(\"Numero de Datos\",Data.shape[0])\n",
    "print(\"Numero de tweets con depresion\",Data[\"label\"].sum(),\"Porcentaje\",Data[\"label\"].sum()/Data.shape[0])\n",
    "print(\"Numero de tweets sin depresion\",Data.shape[0]-Data[\"label\"].sum(),\"Porcentaje\",(Data.shape[0]-Data[\"label\"].sum())/Data.shape[0])"
   ]
  },
  {
   "cell_type": "code",
   "execution_count": 7,
   "metadata": {},
   "outputs": [],
   "source": [
    "#Para el pre procesamiento se utilizara un simple stemming\n",
    "stemmer = SnowballStemmer('english')\n",
    "\n",
    "def stem(match):\n",
    "    return stemmer.stem(match.group(0))\n",
    "\n",
    "def my_preprocessing(text):\n",
    "    return re.sub(r\"\\w+\", stem, text)"
   ]
  },
  {
   "cell_type": "code",
   "execution_count": 8,
   "metadata": {},
   "outputs": [],
   "source": [
    "x_train_prep = [my_preprocessing(str(X_train.iloc[i])) for i in range(X_train.size)]\n",
    "x_test_prep = [my_preprocessing(str(X_test.iloc[i])) for i in range(X_test.size)]"
   ]
  },
  {
   "cell_type": "markdown",
   "metadata": {},
   "source": [
    "# Entrenamiento de Modelo y busqueda de hyperparametros"
   ]
  },
  {
   "cell_type": "markdown",
   "metadata": {},
   "source": [
    "### Recall =$\\frac{TP}{TP+FN}$\n",
    "### Precision =$\\frac{TP}{TP+FP}$\n",
    "### Accuracy=$\\frac{TP+TN}{TP+FN+TN+FP}$\n",
    "TP= True Positive, \n",
    "TN= True Negative,\n",
    "FP= False Positive, \n",
    "FN= False Negative"
   ]
  },
  {
   "cell_type": "code",
   "execution_count": 9,
   "metadata": {},
   "outputs": [
    {
     "name": "stderr",
     "output_type": "stream",
     "text": [
      "Training on '1.0': 100%|██████████| 2/2 [00:09<00:00,  4.53s/it]\n"
     ]
    }
   ],
   "source": [
    "clf = SS3(s=.2, l=.1, p=.5)\n",
    "clf.train(x_train_prep, Y_train, n_grams=3, prep=False)"
   ]
  },
  {
   "cell_type": "code",
   "execution_count": 11,
   "metadata": {},
   "outputs": [
    {
     "name": "stderr",
     "output_type": "stream",
     "text": [
      "Classification: 100%|██████████| 10871/10871 [00:27<00:00, 395.16it/s]\n"
     ]
    },
    {
     "name": "stdout",
     "output_type": "stream",
     "text": [
      "Accuracy was: 0.8645018857510809\n",
      "Recall : 0.8111975116640746\n",
      "Precision : 0.9526940639269407\n"
     ]
    },
    {
     "data": {
      "image/png": "[encoded data removed]",
      "text/plain": [
       "<Figure size 432x288 with 2 Axes>"
      ]
     },
     "metadata": {
      "needs_background": "light"
     },
     "output_type": "display_data"
    }
   ],
   "source": [
    "from sklearn.metrics import confusion_matrix\n",
    "y_pred = clf.predict(x_test_prep, prep=False)\n",
    "accuracy = accuracy_score(y_pred, Y_test)\n",
    "print(\"Accuracy was:\", accuracy)\n",
    "print(\"Recall :\",recall_score(y_pred,Y_test))\n",
    "print(\"Precision :\",precision_score(y_pred,Y_test))\n",
    "C=confusion_matrix(Y_test, y_pred)\n",
    "sn.heatmap(C, annot=True,fmt=\"d\")\n",
    "plt.xlabel(\"Predicted\")\n",
    "plt.ylabel(\"True\")\n",
    "plt.show()"
   ]
  },
  {
   "cell_type": "code",
   "execution_count": 12,
   "metadata": {},
   "outputs": [
    {
     "name": "stderr",
     "output_type": "stream",
     "text": [
      "Training on '1.0': 100%|██████████| 2/2 [00:09<00:00,  4.81s/it]\n"
     ]
    }
   ],
   "source": [
    "clf = SS3(s=.3, l=.5, p=.4)\n",
    "clf.train(x_train_prep, Y_train, n_grams=3, prep=False)"
   ]
  },
  {
   "cell_type": "code",
   "execution_count": 13,
   "metadata": {},
   "outputs": [
    {
     "name": "stderr",
     "output_type": "stream",
     "text": [
      "Classification: 100%|██████████| 10871/10871 [00:15<00:00, 684.97it/s]\n"
     ]
    },
    {
     "name": "stdout",
     "output_type": "stream",
     "text": [
      "Accuracy was: 0.9352405482476314\n",
      "Recall : 0.9268205403471104\n",
      "Precision : 0.9461187214611873\n"
     ]
    },
    {
     "data": {
      "image/png": "[encoded data removed]",
      "text/plain": [
       "<Figure size 432x288 with 2 Axes>"
      ]
     },
     "metadata": {
      "needs_background": "light"
     },
     "output_type": "display_data"
    }
   ],
   "source": [
    "from sklearn.metrics import confusion_matrix\n",
    "y_pred = clf.predict(x_test_prep, prep=False)\n",
    "accuracy = accuracy_score(y_pred, Y_test)\n",
    "print(\"Accuracy was:\", accuracy)\n",
    "print(\"Recall :\",recall_score(y_pred,Y_test))\n",
    "print(\"Precision :\",precision_score(y_pred,Y_test))\n",
    "C=confusion_matrix(Y_test, y_pred)\n",
    "sn.heatmap(C, annot=True,fmt=\"d\")\n",
    "plt.xlabel(\"Predicted\")\n",
    "plt.ylabel(\"True\")\n",
    "plt.show()"
   ]
  },
  {
   "cell_type": "code",
   "execution_count": 14,
   "metadata": {},
   "outputs": [
    {
     "name": "stderr",
     "output_type": "stream",
     "text": [
      "Training on '1.0': 100%|██████████| 2/2 [00:10<00:00,  5.22s/it]\n"
     ]
    }
   ],
   "source": [
    "clf = SS3(s=.5, l=.4, p=.6)\n",
    "\n",
    "clf.train(x_train_prep, Y_train, n_grams=3, prep=False)"
   ]
  },
  {
   "cell_type": "code",
   "execution_count": 15,
   "metadata": {},
   "outputs": [
    {
     "name": "stderr",
     "output_type": "stream",
     "text": [
      "Classification: 100%|██████████| 10871/10871 [00:12<00:00, 846.54it/s]\n"
     ]
    },
    {
     "name": "stdout",
     "output_type": "stream",
     "text": [
      "Accuracy was: 0.8477600956673719\n",
      "Recall : 0.9638173870811073\n",
      "Precision : 0.7249315068493151\n"
     ]
    },
    {
     "data": {
      "image/png": "[encoded data removed]",
      "text/plain": [
       "<Figure size 432x288 with 2 Axes>"
      ]
     },
     "metadata": {
      "needs_background": "light"
     },
     "output_type": "display_data"
    }
   ],
   "source": [
    "from sklearn.metrics import confusion_matrix\n",
    "y_pred = clf.predict(x_test_prep, prep=False)\n",
    "accuracy = accuracy_score(y_pred, Y_test)\n",
    "print(\"Accuracy was:\", accuracy)\n",
    "print(\"Recall :\",recall_score(y_pred,Y_test))\n",
    "print(\"Precision :\",precision_score(y_pred,Y_test))\n",
    "C=confusion_matrix(Y_test, y_pred)\n",
    "sn.heatmap(C, annot=True,fmt=\"d\")\n",
    "plt.xlabel(\"Predicted\")\n",
    "plt.ylabel(\"True\")\n",
    "plt.show()"
   ]
  },
  {
   "cell_type": "code",
   "execution_count": 16,
   "metadata": {},
   "outputs": [
    {
     "name": "stderr",
     "output_type": "stream",
     "text": [
      "Training on '1.0': 100%|██████████| 2/2 [00:10<00:00,  5.20s/it]\n"
     ]
    }
   ],
   "source": [
    "clf = SS3(s=.25, l=.5, p=.5)\n",
    "\n",
    "clf.train(x_train_prep, Y_train, n_grams=3, prep=False)"
   ]
  },
  {
   "cell_type": "code",
   "execution_count": 17,
   "metadata": {},
   "outputs": [
    {
     "name": "stderr",
     "output_type": "stream",
     "text": [
      "Classification: 100%|██████████| 10871/10871 [00:17<00:00, 613.48it/s]\n"
     ]
    },
    {
     "name": "stdout",
     "output_type": "stream",
     "text": [
      "Accuracy was: 0.9310091067979027\n",
      "Recall : 0.8963261197785607\n",
      "Precision : 0.9758904109589042\n"
     ]
    },
    {
     "data": {
      "image/png": "[encoded data removed]",
      "text/plain": [
       "<Figure size 432x288 with 2 Axes>"
      ]
     },
     "metadata": {
      "needs_background": "light"
     },
     "output_type": "display_data"
    }
   ],
   "source": [
    "from sklearn.metrics import confusion_matrix\n",
    "y_pred = clf.predict(x_test_prep, prep=False)\n",
    "accuracy = accuracy_score(y_pred, Y_test)\n",
    "print(\"Accuracy was:\", accuracy)\n",
    "print(\"Recall :\",recall_score(y_pred,Y_test))\n",
    "print(\"Precision :\",precision_score(y_pred,Y_test))\n",
    "C=confusion_matrix(Y_test, y_pred)\n",
    "sn.heatmap(C, annot=True,fmt=\"d\")\n",
    "plt.xlabel(\"Predicted\")\n",
    "plt.ylabel(\"True\")\n",
    "plt.show()"
   ]
  },
  {
   "cell_type": "code",
   "execution_count": 18,
   "metadata": {},
   "outputs": [
    {
     "name": "stderr",
     "output_type": "stream",
     "text": [
      "Training on '1.0': 100%|██████████| 2/2 [00:09<00:00,  4.73s/it]\n"
     ]
    }
   ],
   "source": [
    "clf = SS3(s=.25, l=.4, p=.55)\n",
    "\n",
    "clf.train(x_train_prep, Y_train, n_grams=3, prep=False)"
   ]
  },
  {
   "cell_type": "code",
   "execution_count": 19,
   "metadata": {},
   "outputs": [
    {
     "name": "stderr",
     "output_type": "stream",
     "text": [
      "Classification: 100%|██████████| 10871/10871 [00:19<00:00, 555.30it/s]\n"
     ]
    },
    {
     "name": "stdout",
     "output_type": "stream",
     "text": [
      "Accuracy was: 0.9265936896329684\n",
      "Recall : 0.8970962812022415\n",
      "Precision : 0.9649315068493151\n"
     ]
    },
    {
     "data": {
      "image/png": "[encoded data removed]",
      "text/plain": [
       "<Figure size 432x288 with 2 Axes>"
      ]
     },
     "metadata": {
      "needs_background": "light"
     },
     "output_type": "display_data"
    }
   ],
   "source": [
    "from sklearn.metrics import confusion_matrix\n",
    "y_pred = clf.predict(x_test_prep, prep=False)\n",
    "accuracy = accuracy_score(y_pred, Y_test)\n",
    "print(\"Accuracy was:\", accuracy)\n",
    "print(\"Recall :\",recall_score(y_pred,Y_test))\n",
    "print(\"Precision :\",precision_score(y_pred,Y_test))\n",
    "C=confusion_matrix(Y_test, y_pred)\n",
    "sn.heatmap(C, annot=True,fmt=\"d\")\n",
    "plt.xlabel(\"Predicted\")\n",
    "plt.ylabel(\"True\")\n",
    "plt.show()"
   ]
  },
  {
   "cell_type": "code",
   "execution_count": 20,
   "metadata": {},
   "outputs": [
    {
     "name": "stderr",
     "output_type": "stream",
     "text": [
      "Training on '1.0': 100%|██████████| 2/2 [00:10<00:00,  5.32s/it]\n"
     ]
    }
   ],
   "source": [
    "clf = SS3(s=.25, l=.4, p=.1)\n",
    "\n",
    "clf.train(x_train_prep, Y_train, n_grams=3, prep=False)"
   ]
  },
  {
   "cell_type": "code",
   "execution_count": 21,
   "metadata": {},
   "outputs": [
    {
     "name": "stderr",
     "output_type": "stream",
     "text": [
      "Classification: 100%|██████████| 10871/10871 [00:17<00:00, 616.59it/s]\n"
     ]
    },
    {
     "name": "stdout",
     "output_type": "stream",
     "text": [
      "Accuracy was: 0.9265936896329684\n",
      "Recall : 0.8969614666440333\n",
      "Precision : 0.9651141552511415\n"
     ]
    },
    {
     "data": {
      "image/png": "[encoded data removed]",
      "text/plain": [
       "<Figure size 432x288 with 2 Axes>"
      ]
     },
     "metadata": {
      "needs_background": "light"
     },
     "output_type": "display_data"
    }
   ],
   "source": [
    "from sklearn.metrics import confusion_matrix\n",
    "y_pred = clf.predict(x_test_prep, prep=False)\n",
    "accuracy = accuracy_score(y_pred, Y_test)\n",
    "print(\"Accuracy was:\", accuracy)\n",
    "print(\"Recall :\",recall_score(y_pred,Y_test))\n",
    "print(\"Precision :\",precision_score(y_pred,Y_test))\n",
    "C=confusion_matrix(Y_test, y_pred)\n",
    "sn.heatmap(C, annot=True,fmt=\"d\")\n",
    "plt.xlabel(\"Predicted\")\n",
    "plt.ylabel(\"True\")\n",
    "plt.show()"
   ]
  },
  {
   "cell_type": "markdown",
   "metadata": {},
   "source": [
    "# Se guarda Mejor Modelo"
   ]
  },
  {
   "cell_type": "markdown",
   "metadata": {},
   "source": [
    "Se eligio este modelo ya que, es el que tiene mejor presición, que es lo que queremos maximizar."
   ]
  },
  {
   "cell_type": "code",
   "execution_count": 22,
   "metadata": {},
   "outputs": [
    {
     "name": "stderr",
     "output_type": "stream",
     "text": [
      "Training on '1.0': 100%|██████████| 2/2 [00:10<00:00,  5.39s/it]\n",
      "Classification: 100%|██████████| 10871/10871 [00:17<00:00, 612.98it/s]\n"
     ]
    },
    {
     "name": "stdout",
     "output_type": "stream",
     "text": [
      "Accuracy was: 0.9310091067979027\n",
      "Recall : 0.8963261197785607\n",
      "Precision : 0.9758904109589042\n"
     ]
    },
    {
     "data": {
      "image/png": "[encoded data removed]",
      "text/plain": [
       "<Figure size 432x288 with 2 Axes>"
      ]
     },
     "metadata": {
      "needs_background": "light"
     },
     "output_type": "display_data"
    }
   ],
   "source": [
    "clf = SS3(s=.25, l=.5, p=.5)\n",
    "clf.train(x_train_prep, Y_train, n_grams=3, prep=False)\n",
    "from sklearn.metrics import confusion_matrix\n",
    "y_pred = clf.predict(x_test_prep, prep=False)\n",
    "accuracy = accuracy_score(y_pred, Y_test)\n",
    "print(\"Accuracy was:\", accuracy)\n",
    "print(\"Recall :\",recall_score(y_pred,Y_test))\n",
    "print(\"Precision :\",precision_score(y_pred,Y_test))\n",
    "C=confusion_matrix(Y_test, y_pred)\n",
    "sn.heatmap(C, annot=True,fmt=\"d\")\n",
    "plt.xlabel(\"Predicted\")\n",
    "plt.ylabel(\"True\")\n",
    "plt.show()"
   ]
  },
  {
   "cell_type": "code",
   "execution_count": 25,
   "metadata": {},
   "outputs": [
    {
     "name": "stderr",
     "output_type": "stream",
     "text": [
      "Classification: 100%|██████████| 1/1 [00:00<00:00, 1000.55it/s]"
     ]
    },
    {
     "name": "stdout",
     "output_type": "stream",
     "text": [
      "['I am very sad today']\n"
     ]
    },
    {
     "name": "stderr",
     "output_type": "stream",
     "text": [
      "\n"
     ]
    },
    {
     "data": {
      "text/plain": [
       "[1.0]"
      ]
     },
     "execution_count": 25,
     "metadata": {},
     "output_type": "execute_result"
    }
   ],
   "source": [
    "x=[\"I am very sad today\"]\n",
    "print(x)\n",
    "#Si tiene depresión marcara un 1\n",
    "clf.predict(x)"
   ]
  },
  {
   "cell_type": "code",
   "execution_count": 26,
   "metadata": {},
   "outputs": [
    {
     "name": "stderr",
     "output_type": "stream",
     "text": [
      "Classification: 100%|██████████| 1/1 [00:00<00:00, 501.05it/s]"
     ]
    },
    {
     "name": "stdout",
     "output_type": "stream",
     "text": [
      "['Today is a great dat']\n"
     ]
    },
    {
     "name": "stderr",
     "output_type": "stream",
     "text": [
      "\n"
     ]
    },
    {
     "data": {
      "text/plain": [
       "[0.0]"
      ]
     },
     "execution_count": 26,
     "metadata": {},
     "output_type": "execute_result"
    }
   ],
   "source": [
    "\n",
    "x=[\"Today is a great day\"]\n",
    "print(x)\n",
    "#Si tiene depresión marcara un 1\n",
    "clf.predict(x)"
   ]
  },
  {
   "cell_type": "code",
   "execution_count": 35,
   "metadata": {},
   "outputs": [
    {
     "name": "stderr",
     "output_type": "stream",
     "text": [
      "Classification: 100%|██████████| 1/1 [00:00<00:00, 45.58it/s]"
     ]
    },
    {
     "name": "stdout",
     "output_type": "stream",
     "text": [
      "['I dont like my life']\n"
     ]
    },
    {
     "name": "stderr",
     "output_type": "stream",
     "text": [
      "\n"
     ]
    },
    {
     "data": {
      "text/plain": [
       "[1.0]"
      ]
     },
     "execution_count": 35,
     "metadata": {},
     "output_type": "execute_result"
    }
   ],
   "source": [
    "x=[\"I dont like my life\"]\n",
    "print(x)\n",
    "#Si tiene depresión marcara un 1\n",
    "clf.predict(x)"
   ]
  },
  {
   "cell_type": "code",
   "execution_count": 36,
   "metadata": {},
   "outputs": [],
   "source": [
    "save_classifier = open(\"Models/SS3.pickle\",\"wb\")\n",
    "pickle.dump(clf, save_classifier)\n",
    "save_classifier.close()"
   ]
  },
  {
   "cell_type": "code",
   "execution_count": null,
   "metadata": {},
   "outputs": [],
   "source": []
  }
 ],
 "metadata": {
  "kernelspec": {
   "display_name": "Python 3",
   "language": "python",
   "name": "python3"
  },
  "language_info": {
   "codemirror_mode": {
    "name": "ipython",
    "version": 3
   },
   "file_extension": ".py",
   "mimetype": "text/x-python",
   "name": "python",
   "nbconvert_exporter": "python",
   "pygments_lexer": "ipython3",
   "version": "3.7.6"
  }
 },
 "nbformat": 4,
 "nbformat_minor": 4
}
