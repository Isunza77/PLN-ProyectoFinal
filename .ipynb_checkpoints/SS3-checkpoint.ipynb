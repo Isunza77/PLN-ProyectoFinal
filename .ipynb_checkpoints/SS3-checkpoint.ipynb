{
 "cells": [
  {
   "cell_type": "code",
   "execution_count": 2,
   "metadata": {},
   "outputs": [
    {
     "name": "stdout",
     "output_type": "stream",
     "text": [
      "Collecting pyss3\n",
      "  Downloading pyss3-0.6.4-py3-none-any.whl (2.0 MB)\n",
      "Requirement already satisfied: matplotlib in c:\\users\\feris\\anaconda3\\lib\\site-packages (from pyss3) (3.1.3)\n",
      "Requirement already satisfied: six in c:\\users\\feris\\anaconda3\\lib\\site-packages (from pyss3) (1.15.0)\n",
      "Requirement already satisfied: tqdm>=4.8.4 in c:\\users\\feris\\anaconda3\\lib\\site-packages (from pyss3) (4.42.1)\n",
      "Requirement already satisfied: scikit-learn[alldeps]>=0.20 in c:\\users\\feris\\anaconda3\\lib\\site-packages (from pyss3) (0.22.1)\n",
      "Collecting iterative-stratification\n",
      "  Downloading iterative_stratification-0.1.6-py3-none-any.whl (8.7 kB)\n",
      "Requirement already satisfied: cython in c:\\users\\feris\\anaconda3\\lib\\site-packages (from pyss3) (0.29.15)\n",
      "Requirement already satisfied: joblib>=0.11 in c:\\users\\feris\\anaconda3\\lib\\site-packages (from scikit-learn[alldeps]>=0.20->pyss3) (0.14.1)\n",
      "Requirement already satisfied: numpy>=1.11.0 in c:\\users\\feris\\anaconda3\\lib\\site-packages (from scikit-learn[alldeps]>=0.20->pyss3) (1.19.5)\n",
      "Requirement already satisfied: scipy>=0.17.0 in c:\\users\\feris\\anaconda3\\lib\\site-packages (from scikit-learn[alldeps]>=0.20->pyss3) (1.4.1)\n",
      "Requirement already satisfied: pyparsing!=2.0.4,!=2.1.2,!=2.1.6,>=2.0.1 in c:\\users\\feris\\anaconda3\\lib\\site-packages (from matplotlib->pyss3) (2.4.6)\n",
      "Requirement already satisfied: kiwisolver>=1.0.1 in c:\\users\\feris\\anaconda3\\lib\\site-packages (from matplotlib->pyss3) (1.1.0)\n",
      "Requirement already satisfied: python-dateutil>=2.1 in c:\\users\\feris\\anaconda3\\lib\\site-packages (from matplotlib->pyss3) (2.8.1)\n",
      "Requirement already satisfied: cycler>=0.10 in c:\\users\\feris\\anaconda3\\lib\\site-packages (from matplotlib->pyss3) (0.10.0)\n",
      "Requirement already satisfied: setuptools in c:\\users\\feris\\anaconda3\\lib\\site-packages (from kiwisolver>=1.0.1->matplotlib->pyss3) (45.2.0.post20200210)\n",
      "Installing collected packages: iterative-stratification, pyss3\n",
      "Successfully installed iterative-stratification-0.1.6 pyss3-0.6.4\n"
     ]
    },
    {
     "name": "stderr",
     "output_type": "stream",
     "text": [
      "WARNING: You are using pip version 21.0.1; however, version 21.1.2 is available.\n",
      "You should consider upgrading via the 'c:\\users\\feris\\anaconda3\\python.exe -m pip install --upgrade pip' command.\n"
     ]
    }
   ],
   "source": [
    "!pip install pyss3"
   ]
  },
  {
   "cell_type": "code",
   "execution_count": 173,
   "metadata": {},
   "outputs": [],
   "source": [
    "%matplotlib inline\n",
    "import re\n",
    "import pandas as pd\n",
    "from pyss3 import SS3\n",
    "import pickle\n",
    "import seaborn as sn\n",
    "\n",
    "from pyss3.util import Dataset, Evaluation, span\n",
    "from pyss3.server import Live_Test\n",
    "import matplotlib as plt\n",
    "from sklearn.metrics import plot_confusion_matrix\n",
    "from sklearn.model_selection import GridSearchCV\n",
    "from sklearn.metrics import accuracy_score, recall_score, precision_score, confusion_matrix\n",
    "from nltk.stem import SnowballStemmer\n",
    "from sklearn.model_selection import train_test_split"
   ]
  },
  {
   "cell_type": "markdown",
   "metadata": {},
   "source": [
    "# Carga y preprocesamiento de Data"
   ]
  },
  {
   "cell_type": "code",
   "execution_count": 30,
   "metadata": {},
   "outputs": [],
   "source": [
    "Predict=pd.read_csv('Data/Test/pruebatest.csv',engine='python')\n",
    "Data=pd.read_csv('Data/Train/pruebatrain.csv',engine='python')"
   ]
  },
  {
   "cell_type": "code",
   "execution_count": 33,
   "metadata": {},
   "outputs": [],
   "source": [
    "X_train, X_test, Y_train, Y_test= train_test_split(Data[\"tweetstop\"],Data[\"Depressed\"],test_size=.2, random_state=54)"
   ]
  },
  {
   "cell_type": "code",
   "execution_count": 68,
   "metadata": {},
   "outputs": [
    {
     "name": "stdout",
     "output_type": "stream",
     "text": [
      "Numero de Datos 10190\n",
      "Numero de tweets con depresion 5066.0 Porcentaje 0.4971540726202159\n",
      "Numero de tweets sin depresion 5124.0 Porcentaje 0.5028459273797841\n"
     ]
    }
   ],
   "source": [
    "print(\"Numero de Datos\",Data.shape[0])\n",
    "print(\"Numero de tweets con depresion\",Data[\"Depressed\"].sum(),\"Porcentaje\",Data[\"Depressed\"].sum()/Data.shape[0])\n",
    "print(\"Numero de tweets sin depresion\",Data.shape[0]-Data[\"Depressed\"].sum(),\"Porcentaje\",(Data.shape[0]-Data[\"Depressed\"].sum())/Data.shape[0])"
   ]
  },
  {
   "cell_type": "code",
   "execution_count": 35,
   "metadata": {},
   "outputs": [],
   "source": [
    "#Para el pre procesamiento se utilizara un simple stemming\n",
    "stemmer = SnowballStemmer('english')\n",
    "\n",
    "def stem(match):\n",
    "    return stemmer.stem(match.group(0))\n",
    "\n",
    "def my_preprocessing(text):\n",
    "    return re.sub(r\"\\w+\", stem, text)"
   ]
  },
  {
   "cell_type": "code",
   "execution_count": 44,
   "metadata": {},
   "outputs": [],
   "source": [
    "x_train_prep = [my_preprocessing(str(X_train.iloc[i])) for i in range(X_train.size)]\n",
    "x_test_prep = [my_preprocessing(str(X_test.iloc[i])) for i in range(X_test.size)]"
   ]
  },
  {
   "cell_type": "markdown",
   "metadata": {},
   "source": [
    "# Entrenamiento de Modelo y busqueda de hyperparametros"
   ]
  },
  {
   "cell_type": "code",
   "execution_count": 160,
   "metadata": {},
   "outputs": [],
   "source": [
    "clf = SS3(s=.2, l=.1, p=.5)\n",
    "clf.train(x_train_prep, Y_train, n_grams=3, prep=False)"
   ]
  },
  {
   "cell_type": "code",
   "execution_count": 177,
   "metadata": {},
   "outputs": [
    {
     "name": "stdout",
     "output_type": "stream",
     "text": [
      "Accuracy was: 0.7168792934249264\n",
      "Recall : [0.725756   0.70898981]\n",
      "Precision : [0.68910891 0.74416342]\n"
     ]
    },
    {
     "ename": "AssertionError",
     "evalue": "arrays and names must have the same length",
     "output_type": "error",
     "traceback": [
      "\u001b[1;31m---------------------------------------------------------------------------\u001b[0m",
      "\u001b[1;31mAssertionError\u001b[0m                            Traceback (most recent call last)",
      "\u001b[1;32m<ipython-input-177-9c91db04b0cf>\u001b[0m in \u001b[0;36m<module>\u001b[1;34m\u001b[0m\n\u001b[0;32m      4\u001b[0m \u001b[0mprint\u001b[0m\u001b[1;33m(\u001b[0m\u001b[1;34m\"Recall :\"\u001b[0m\u001b[1;33m,\u001b[0m\u001b[0mrecall_score\u001b[0m\u001b[1;33m(\u001b[0m\u001b[0my_pred\u001b[0m\u001b[1;33m,\u001b[0m\u001b[0mY_test\u001b[0m\u001b[1;33m,\u001b[0m\u001b[0maverage\u001b[0m\u001b[1;33m=\u001b[0m\u001b[1;32mNone\u001b[0m\u001b[1;33m)\u001b[0m\u001b[1;33m)\u001b[0m\u001b[1;33m\u001b[0m\u001b[1;33m\u001b[0m\u001b[0m\n\u001b[0;32m      5\u001b[0m \u001b[0mprint\u001b[0m\u001b[1;33m(\u001b[0m\u001b[1;34m\"Precision :\"\u001b[0m\u001b[1;33m,\u001b[0m\u001b[0mprecision_score\u001b[0m\u001b[1;33m(\u001b[0m\u001b[0my_pred\u001b[0m\u001b[1;33m,\u001b[0m\u001b[0mY_test\u001b[0m\u001b[1;33m,\u001b[0m\u001b[0maverage\u001b[0m\u001b[1;33m=\u001b[0m\u001b[1;32mNone\u001b[0m\u001b[1;33m)\u001b[0m\u001b[1;33m)\u001b[0m\u001b[1;33m\u001b[0m\u001b[1;33m\u001b[0m\u001b[0m\n\u001b[1;32m----> 6\u001b[1;33m \u001b[0mconfusion_matrix\u001b[0m \u001b[1;33m=\u001b[0m \u001b[0mpd\u001b[0m\u001b[1;33m.\u001b[0m\u001b[0mcrosstab\u001b[0m\u001b[1;33m(\u001b[0m\u001b[0mY_test\u001b[0m\u001b[1;33m,\u001b[0m \u001b[0my_pred\u001b[0m\u001b[1;33m,\u001b[0m\u001b[0mrownames\u001b[0m\u001b[1;33m=\u001b[0m\u001b[1;33m[\u001b[0m\u001b[1;34m'Actual'\u001b[0m\u001b[1;33m]\u001b[0m\u001b[1;33m,\u001b[0m \u001b[0mcolnames\u001b[0m\u001b[1;33m=\u001b[0m\u001b[1;33m[\u001b[0m\u001b[1;34m'Predicted'\u001b[0m\u001b[1;33m]\u001b[0m\u001b[1;33m)\u001b[0m\u001b[1;33m\u001b[0m\u001b[1;33m\u001b[0m\u001b[0m\n\u001b[0m\u001b[0;32m      7\u001b[0m \u001b[0msn\u001b[0m\u001b[1;33m.\u001b[0m\u001b[0mheatmap\u001b[0m\u001b[1;33m(\u001b[0m\u001b[0mconfusion_matrix\u001b[0m\u001b[1;33m,\u001b[0m \u001b[0mannot\u001b[0m\u001b[1;33m=\u001b[0m\u001b[1;32mTrue\u001b[0m\u001b[1;33m)\u001b[0m\u001b[1;33m\u001b[0m\u001b[1;33m\u001b[0m\u001b[0m\n\u001b[0;32m      8\u001b[0m \u001b[0mplt\u001b[0m\u001b[1;33m.\u001b[0m\u001b[0mshow\u001b[0m\u001b[1;33m(\u001b[0m\u001b[1;33m)\u001b[0m\u001b[1;33m\u001b[0m\u001b[1;33m\u001b[0m\u001b[0m\n",
      "\u001b[1;32m~\\anaconda3\\lib\\site-packages\\pandas\\core\\reshape\\pivot.py\u001b[0m in \u001b[0;36mcrosstab\u001b[1;34m(index, columns, values, rownames, colnames, aggfunc, margins, margins_name, dropna, normalize)\u001b[0m\n\u001b[0;32m    560\u001b[0m \u001b[1;33m\u001b[0m\u001b[0m\n\u001b[0;32m    561\u001b[0m     \u001b[0mrownames\u001b[0m \u001b[1;33m=\u001b[0m \u001b[0m_get_names\u001b[0m\u001b[1;33m(\u001b[0m\u001b[0mindex\u001b[0m\u001b[1;33m,\u001b[0m \u001b[0mrownames\u001b[0m\u001b[1;33m,\u001b[0m \u001b[0mprefix\u001b[0m\u001b[1;33m=\u001b[0m\u001b[1;34m\"row\"\u001b[0m\u001b[1;33m)\u001b[0m\u001b[1;33m\u001b[0m\u001b[1;33m\u001b[0m\u001b[0m\n\u001b[1;32m--> 562\u001b[1;33m     \u001b[0mcolnames\u001b[0m \u001b[1;33m=\u001b[0m \u001b[0m_get_names\u001b[0m\u001b[1;33m(\u001b[0m\u001b[0mcolumns\u001b[0m\u001b[1;33m,\u001b[0m \u001b[0mcolnames\u001b[0m\u001b[1;33m,\u001b[0m \u001b[0mprefix\u001b[0m\u001b[1;33m=\u001b[0m\u001b[1;34m\"col\"\u001b[0m\u001b[1;33m)\u001b[0m\u001b[1;33m\u001b[0m\u001b[1;33m\u001b[0m\u001b[0m\n\u001b[0m\u001b[0;32m    563\u001b[0m \u001b[1;33m\u001b[0m\u001b[0m\n\u001b[0;32m    564\u001b[0m     \u001b[0mcommon_idx\u001b[0m \u001b[1;33m=\u001b[0m \u001b[1;32mNone\u001b[0m\u001b[1;33m\u001b[0m\u001b[1;33m\u001b[0m\u001b[0m\n",
      "\u001b[1;32m~\\anaconda3\\lib\\site-packages\\pandas\\core\\reshape\\pivot.py\u001b[0m in \u001b[0;36m_get_names\u001b[1;34m(arrs, names, prefix)\u001b[0m\n\u001b[0;32m    699\u001b[0m     \u001b[1;32melse\u001b[0m\u001b[1;33m:\u001b[0m\u001b[1;33m\u001b[0m\u001b[1;33m\u001b[0m\u001b[0m\n\u001b[0;32m    700\u001b[0m         \u001b[1;32mif\u001b[0m \u001b[0mlen\u001b[0m\u001b[1;33m(\u001b[0m\u001b[0mnames\u001b[0m\u001b[1;33m)\u001b[0m \u001b[1;33m!=\u001b[0m \u001b[0mlen\u001b[0m\u001b[1;33m(\u001b[0m\u001b[0marrs\u001b[0m\u001b[1;33m)\u001b[0m\u001b[1;33m:\u001b[0m\u001b[1;33m\u001b[0m\u001b[1;33m\u001b[0m\u001b[0m\n\u001b[1;32m--> 701\u001b[1;33m             \u001b[1;32mraise\u001b[0m \u001b[0mAssertionError\u001b[0m\u001b[1;33m(\u001b[0m\u001b[1;34m\"arrays and names must have the same length\"\u001b[0m\u001b[1;33m)\u001b[0m\u001b[1;33m\u001b[0m\u001b[1;33m\u001b[0m\u001b[0m\n\u001b[0m\u001b[0;32m    702\u001b[0m         \u001b[1;32mif\u001b[0m \u001b[1;32mnot\u001b[0m \u001b[0misinstance\u001b[0m\u001b[1;33m(\u001b[0m\u001b[0mnames\u001b[0m\u001b[1;33m,\u001b[0m \u001b[0mlist\u001b[0m\u001b[1;33m)\u001b[0m\u001b[1;33m:\u001b[0m\u001b[1;33m\u001b[0m\u001b[1;33m\u001b[0m\u001b[0m\n\u001b[0;32m    703\u001b[0m             \u001b[0mnames\u001b[0m \u001b[1;33m=\u001b[0m \u001b[0mlist\u001b[0m\u001b[1;33m(\u001b[0m\u001b[0mnames\u001b[0m\u001b[1;33m)\u001b[0m\u001b[1;33m\u001b[0m\u001b[1;33m\u001b[0m\u001b[0m\n",
      "\u001b[1;31mAssertionError\u001b[0m: arrays and names must have the same length"
     ]
    }
   ],
   "source": [
    "y_pred = clf.predict(x_test_prep, prep=False)\n",
    "accuracy = accuracy_score(y_pred, Y_test)\n",
    "print(\"Accuracy was:\", accuracy)\n",
    "print(\"Recall :\",recall_score(y_pred,Y_test,average=None))\n",
    "print(\"Precision :\",precision_score(y_pred,Y_test,average=None))\n",
    "confusion_matrix = pd.crosstab(Y_test, y_pred,rownames=['Actual'], colnames=['Predicted'])\n",
    "sn.heatmap(confusion_matrix, annot=True)\n",
    "plt.show()"
   ]
  },
  {
   "cell_type": "code",
   "execution_count": null,
   "metadata": {},
   "outputs": [],
   "source": []
  },
  {
   "cell_type": "code",
   "execution_count": 116,
   "metadata": {},
   "outputs": [],
   "source": [
    "clf = SS3(s=.3, l=.5, p=.4)\n",
    "clf.train(x_train_prep, Y_train, n_grams=3, prep=False)"
   ]
  },
  {
   "cell_type": "code",
   "execution_count": 117,
   "metadata": {},
   "outputs": [
    {
     "name": "stdout",
     "output_type": "stream",
     "text": [
      "Accuracy was: 0.7855740922473012\n"
     ]
    }
   ],
   "source": [
    "y_pred = clf.predict(x_test_prep, prep=False)\n",
    "accuracy = accuracy_score(y_pred, Y_test)\n",
    "print(\"Accuracy was:\", accuracy)"
   ]
  },
  {
   "cell_type": "code",
   "execution_count": 120,
   "metadata": {},
   "outputs": [],
   "source": [
    "clf = SS3(s=.5, l=.4, p=.6)\n",
    "\n",
    "clf.train(x_train_prep, Y_train, n_grams=3, prep=False)"
   ]
  },
  {
   "cell_type": "code",
   "execution_count": 121,
   "metadata": {},
   "outputs": [
    {
     "name": "stdout",
     "output_type": "stream",
     "text": [
      "Accuracy was: 0.7154072620215898\n"
     ]
    }
   ],
   "source": [
    "y_pred = clf.predict(x_test_prep, prep=False)\n",
    "accuracy = accuracy_score(y_pred, Y_test)\n",
    "print(\"Accuracy was:\", accuracy)"
   ]
  },
  {
   "cell_type": "code",
   "execution_count": 122,
   "metadata": {},
   "outputs": [],
   "source": [
    "clf = SS3(s=.25, l=.5, p=.5)\n",
    "\n",
    "clf.train(x_train_prep, Y_train, n_grams=3, prep=False)"
   ]
  },
  {
   "cell_type": "code",
   "execution_count": 123,
   "metadata": {},
   "outputs": [
    {
     "name": "stdout",
     "output_type": "stream",
     "text": [
      "Accuracy was: 0.8400392541707556\n"
     ]
    }
   ],
   "source": [
    "y_pred = clf.predict(x_test_prep, prep=False)\n",
    "accuracy = accuracy_score(y_pred, Y_test)\n",
    "print(\"Accuracy was:\", accuracy)"
   ]
  },
  {
   "cell_type": "code",
   "execution_count": 135,
   "metadata": {},
   "outputs": [],
   "source": [
    "clf = SS3(s=.25, l=.4, p=.55)\n",
    "\n",
    "clf.train(x_train_prep, Y_train, n_grams=3, prep=False)"
   ]
  },
  {
   "cell_type": "code",
   "execution_count": 125,
   "metadata": {},
   "outputs": [
    {
     "name": "stdout",
     "output_type": "stream",
     "text": [
      "Accuracy was: 0.8258096172718351\n"
     ]
    }
   ],
   "source": [
    "y_pred = clf.predict(x_test_prep, prep=False)\n",
    "accuracy = accuracy_score(y_pred, Y_test)\n",
    "print(\"Accuracy was:\", accuracy)"
   ]
  },
  {
   "cell_type": "markdown",
   "metadata": {},
   "source": [
    "# Se guarda Mejor Modelo"
   ]
  },
  {
   "cell_type": "code",
   "execution_count": 138,
   "metadata": {},
   "outputs": [
    {
     "name": "stdout",
     "output_type": "stream",
     "text": [
      "Accuracy was: 0.8400392541707556\n"
     ]
    }
   ],
   "source": [
    "clf = SS3(s=.25, l=.5, p=.5)\n",
    "clf.train(x_train_prep, Y_train, n_grams=3, prep=False)\n",
    "y_pred = clf.predict(x_test_prep, prep=False)\n",
    "accuracy = accuracy_score(y_pred, Y_test)\n",
    "print(\"Accuracy was:\", accuracy)"
   ]
  },
  {
   "cell_type": "code",
   "execution_count": 147,
   "metadata": {},
   "outputs": [
    {
     "name": "stdout",
     "output_type": "stream",
     "text": [
      "hello beautiful blue sky goodbye revision work\n"
     ]
    },
    {
     "data": {
      "text/plain": [
       "[0.0]"
      ]
     },
     "execution_count": 147,
     "metadata": {},
     "output_type": "execute_result"
    }
   ],
   "source": [
    "print(Predict.iloc[2][0])\n",
    "#Si tiene depresión marcara un 1\n",
    "clf.predict(Predict.iloc[2])"
   ]
  },
  {
   "cell_type": "code",
   "execution_count": 148,
   "metadata": {},
   "outputs": [
    {
     "name": "stdout",
     "output_type": "stream",
     "text": [
      "ahhh happy\n"
     ]
    },
    {
     "data": {
      "text/plain": [
       "[0.0]"
      ]
     },
     "execution_count": 148,
     "metadata": {},
     "output_type": "execute_result"
    }
   ],
   "source": [
    "print(Predict.iloc[3][0])\n",
    "#Si tiene depresión marcara un 1\n",
    "clf.predict(Predict.iloc[3])"
   ]
  },
  {
   "cell_type": "code",
   "execution_count": 153,
   "metadata": {},
   "outputs": [
    {
     "name": "stdout",
     "output_type": "stream",
     "text": [
      "love depressiondespair serious reality chemically andor philosophically youre youre alone life matters \n"
     ]
    },
    {
     "data": {
      "text/plain": [
       "[1.0]"
      ]
     },
     "execution_count": 153,
     "metadata": {},
     "output_type": "execute_result"
    }
   ],
   "source": [
    "print(Predict.iloc[1][0])\n",
    "#Si tiene depresión marcara un 1\n",
    "clf.predict(Predict.iloc[1])"
   ]
  },
  {
   "cell_type": "code",
   "execution_count": 154,
   "metadata": {},
   "outputs": [],
   "source": [
    "save_classifier = open(\"Models/SS3.pickle\",\"wb\")\n",
    "pickle.dump(clf, save_classifier)\n",
    "save_classifier.close()"
   ]
  },
  {
   "cell_type": "code",
   "execution_count": null,
   "metadata": {},
   "outputs": [],
   "source": []
  }
 ],
 "metadata": {
  "kernelspec": {
   "display_name": "Python 3",
   "language": "python",
   "name": "python3"
  },
  "language_info": {
   "codemirror_mode": {
    "name": "ipython",
    "version": 3
   },
   "file_extension": ".py",
   "mimetype": "text/x-python",
   "name": "python",
   "nbconvert_exporter": "python",
   "pygments_lexer": "ipython3",
   "version": "3.7.6"
  }
 },
 "nbformat": 4,
 "nbformat_minor": 4
}
