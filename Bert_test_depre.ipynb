{
  "nbformat": 4,
  "nbformat_minor": 0,
  "metadata": {
    "accelerator": "GPU",
    "colab": {
      "name": "Bert_test_depre",
      "provenance": [],
      "authorship_tag": "ABX9TyPUiRsFkRIVijsDQx+rrRr3",
      "include_colab_link": true
    },
    "kernelspec": {
      "display_name": "Python 3",
      "name": "python3"
    },
    "language_info": {
      "name": "python"
    }
  },
  "cells": [
    {
      "cell_type": "markdown",
      "metadata": {
        "id": "view-in-github",
        "colab_type": "text"
      },
      "source": [
        "<a href=\"https://colab.research.google.com/github/Isunza77/PLN-ProyectoFinal/blob/main/Bert_test_depre.ipynb\" target=\"_parent\"><img src=\"https://colab.research.google.com/assets/colab-badge.svg\" alt=\"Open In Colab\"/></a>"
      ]
    },
    {
      "cell_type": "code",
      "metadata": {
        "colab": {
          "base_uri": "https://localhost:8080/"
        },
        "id": "rmbJdrMUooBJ",
        "outputId": "f752b7c7-e36e-4cb0-9ba3-2780274abe8b"
      },
      "source": [
        "from google.colab import drive\n",
        "drive.mount('/content/drive')"
      ],
      "execution_count": 1,
      "outputs": [
        {
          "output_type": "stream",
          "text": [
            "Mounted at /content/drive\n"
          ],
          "name": "stdout"
        }
      ]
    },
    {
      "cell_type": "code",
      "metadata": {
        "id": "R3TwvqN0opQe"
      },
      "source": [
        "!python3.7 -m pip install tensorflow-gpu==1.15.0\n",
        "from IPython.display import clear_output \n",
        "clear_output()\n",
        "import sys\n",
        "import os\n",
        "import pandas as pd\n",
        "import numpy as np\n",
        "import tensorflow as tf\n",
        "import runpy\n",
        "sys.path.append(os.path.abspath('/content/drive/MyDrive/bert'))"
      ],
      "execution_count": 2,
      "outputs": []
    },
    {
      "cell_type": "code",
      "metadata": {
        "id": "91PnCfEo7eVS"
      },
      "source": [
        "def predict(texto):\n",
        "  test_bert_df = pd.DataFrame({\n",
        "      'id': ['id',0],\n",
        "      'text': [\"text\",texto]\n",
        "  })\n",
        "  #prepare data\n",
        "  test_bert_df.to_csv('/content/drive/MyDrive/bert/Depre_predict/test.tsv', sep='\\t', index=False, header=False)\n",
        "  checkpoint=\"--init_checkpoint=./model_output2/model.ckpt-175\"\n",
        "  #run predict\n",
        "  sys.argv=[\"run_classifier.py\" ,\"--task_name=cola\", \"--do_predict=true\", \"--data_dir=./Depre_predict/\", \"--vocab_file=./uncased_L-12_H-768_A-12/vocab.txt\", \"--bert_config_file=./uncased_L-12_H-768_A-12/bert_config.json\", checkpoint, \"--max_seq_length=128\", \"--max_seq_length=128\",  \"--output_dir=./Depre_predict/\"]\n",
        "  try:\n",
        "    runpy.run_path('run_classifier.py',run_name='__main__')\n",
        "  except SystemExit as exeption:\n",
        "      exitcode = exeption.code\n",
        "  else:\n",
        "    exitcode = 0\n",
        "\n",
        "def read_pre(text): \n",
        "  df=pd.read_csv('/content/drive/MyDrive/bert/Depre_predict/test_results.tsv', sep='\\t')\n",
        "  results=(df.columns[0],df.columns[1])\n",
        "  print(text)\n",
        "  print(\"probablility the text being depressive: \", results[1] )\n"
      ],
      "execution_count": 3,
      "outputs": []
    },
    {
      "cell_type": "code",
      "metadata": {
        "colab": {
          "base_uri": "https://localhost:8080/"
        },
        "id": "RZPJjyz4opVm",
        "outputId": "aad43c5d-8891-4572-9bcd-9aaf178160d6"
      },
      "source": [
        "cd drive/MyDrive/bert"
      ],
      "execution_count": 4,
      "outputs": [
        {
          "output_type": "stream",
          "text": [
            "/content/drive/MyDrive/bert\n"
          ],
          "name": "stdout"
        }
      ]
    },
    {
      "cell_type": "code",
      "metadata": {
        "colab": {
          "base_uri": "https://localhost:8080/"
        },
        "id": "X6n5CHwX-QRe",
        "outputId": "5d916abd-dfb6-4418-abc3-c76f75a9cf33"
      },
      "source": [
        "text='i feel like this year is not going well '\n",
        "predict(text)\n",
        "clear_output()\n",
        "read_pre(text)"
      ],
      "execution_count": 6,
      "outputs": [
        {
          "output_type": "stream",
          "text": [
            "i feel like this year is not going well \n",
            "probablility the text being depressive:  0.9361945\n"
          ],
          "name": "stdout"
        }
      ]
    }
  ]
}