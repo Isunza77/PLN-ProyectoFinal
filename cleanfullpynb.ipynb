{
  "nbformat": 4,
  "nbformat_minor": 0,
  "metadata": {
    "colab": {
      "name": "cleanfullpynb",
      "provenance": [],
      "collapsed_sections": [],
      "authorship_tag": "ABX9TyNozCLVNoWlvKO1aH5cyPWS",
      "include_colab_link": true
    },
    "kernelspec": {
      "name": "python3",
      "display_name": "Python 3"
    },
    "language_info": {
      "name": "python"
    }
  },
  "cells": [
    {
      "cell_type": "markdown",
      "metadata": {
        "id": "view-in-github",
        "colab_type": "text"
      },
      "source": [
        "<a href=\"https://colab.research.google.com/github/gabrielaequante/PLN-ProyectoFinal/blob/main/cleanfullpynb.ipynb\" target=\"_parent\"><img src=\"https://colab.research.google.com/assets/colab-badge.svg\" alt=\"Open In Colab\"/></a>"
      ]
    },
    {
      "cell_type": "code",
      "metadata": {
        "id": "jSP51Y6IR5cZ",
        "colab": {
          "base_uri": "https://localhost:8080/"
        },
        "outputId": "c66db962-27b9-4eda-e254-2c6cb1940133"
      },
      "source": [
        "\n",
        "# Mount Google Drive\n",
        "from google.colab import drive # import drive from google colab\n",
        "import os\n",
        "drive.mount(\"/content/drive\")\n",
        "os.chdir(\"/content/drive/My Drive/\") "
      ],
      "execution_count": 1,
      "outputs": [
        {
          "output_type": "stream",
          "text": [
            "Mounted at /content/drive\n"
          ],
          "name": "stdout"
        }
      ]
    },
    {
      "cell_type": "code",
      "metadata": {
        "colab": {
          "base_uri": "https://localhost:8080/"
        },
        "id": "wHXlDQMnYTHN",
        "outputId": "c0cc225e-9074-4619-d7f5-9da25f161c15"
      },
      "source": [
        "!ls"
      ],
      "execution_count": 2,
      "outputs": [
        {
          "output_type": "stream",
          "text": [
            " app.py\t\t\t  Datasets\t      positive.txt    rnn_LSTM.h5\n",
            " bert\t\t\t  drive\t\t      PROYECTOFINAL   rnn_simple.h5\n",
            " Bert_test\t\t  GRU\t\t      __pycache__     sentiment_mod.py\n",
            " BRRN_LSTM.h5\t\t  keras.hdf5\t      rnn_bi\t     'Twitter data'\n",
            " client-secret.json\t  negative.txt\t      rnn_Gru\t      twitter-out.text\n",
            "'Colab Notebooks'\t  pickled_algos       rnn_GRU1\t      Untitled0.ipynb\n",
            "'Copia de negative.txt'   PLN-ProyectoFinal   rnn_lstm\n"
          ],
          "name": "stdout"
        }
      ]
    },
    {
      "cell_type": "code",
      "metadata": {
        "id": "y6wqVDPDZNQl"
      },
      "source": [
        "os.chdir(\"/content/drive/My Drive/PROYECTOFINAL\") "
      ],
      "execution_count": 3,
      "outputs": []
    },
    {
      "cell_type": "code",
      "metadata": {
        "colab": {
          "base_uri": "https://localhost:8080/"
        },
        "id": "BPu8tqL-ZQxN",
        "outputId": "8500b9a8-1be1-4d62-b004-e28eac6416d8"
      },
      "source": [
        "!ls"
      ],
      "execution_count": 4,
      "outputs": [
        {
          "output_type": "stream",
          "text": [
            "' CLEANTESTpynb'        dev.tsv\t\t pruebatrain.csv   Untitled0.ipynb\n",
            " CLEANTRAINpynb.ipynb   Fulldata2.csv\t test.tsv\n",
            "'dev (1).gsheet'        pruebadev.csv\t train.gsheet\n",
            " dev.gsheet\t        pruebatest.csv\t train.tsv\n"
          ],
          "name": "stdout"
        }
      ]
    },
    {
      "cell_type": "code",
      "metadata": {
        "id": "bhJN_uk7csRu"
      },
      "source": [
        ""
      ],
      "execution_count": null,
      "outputs": []
    },
    {
      "cell_type": "markdown",
      "metadata": {
        "id": "18qm4OZ_csm2"
      },
      "source": [
        "# CLEANING\n",
        "\n",
        "\n"
      ]
    },
    {
      "cell_type": "code",
      "metadata": {
        "id": "i56eyFDmk9ch",
        "colab": {
          "base_uri": "https://localhost:8080/"
        },
        "outputId": "9fcb0f69-b2d1-4d97-8a0a-8d1e29c973bf"
      },
      "source": [
        "import pandas as pd\n",
        "import itertools\n",
        "import collections\n",
        "\n",
        "import nltk\n",
        "nltk.download(['punkt','stopwords'])\n",
        "from nltk.corpus import stopwords\n",
        "stopwords = stopwords.words('english')"
      ],
      "execution_count": 5,
      "outputs": [
        {
          "output_type": "stream",
          "text": [
            "[nltk_data] Downloading package punkt to /root/nltk_data...\n",
            "[nltk_data]   Unzipping tokenizers/punkt.zip.\n",
            "[nltk_data] Downloading package stopwords to /root/nltk_data...\n",
            "[nltk_data]   Unzipping corpora/stopwords.zip.\n"
          ],
          "name": "stdout"
        }
      ]
    },
    {
      "cell_type": "code",
      "metadata": {
        "colab": {
          "base_uri": "https://localhost:8080/"
        },
        "id": "Doq_LIS0ujPT",
        "outputId": "fe345e33-d65a-411b-9480-23843bb43149"
      },
      "source": [
        "stopwords"
      ],
      "execution_count": 6,
      "outputs": [
        {
          "output_type": "execute_result",
          "data": {
            "text/plain": [
              "['i',\n",
              " 'me',\n",
              " 'my',\n",
              " 'myself',\n",
              " 'we',\n",
              " 'our',\n",
              " 'ours',\n",
              " 'ourselves',\n",
              " 'you',\n",
              " \"you're\",\n",
              " \"you've\",\n",
              " \"you'll\",\n",
              " \"you'd\",\n",
              " 'your',\n",
              " 'yours',\n",
              " 'yourself',\n",
              " 'yourselves',\n",
              " 'he',\n",
              " 'him',\n",
              " 'his',\n",
              " 'himself',\n",
              " 'she',\n",
              " \"she's\",\n",
              " 'her',\n",
              " 'hers',\n",
              " 'herself',\n",
              " 'it',\n",
              " \"it's\",\n",
              " 'its',\n",
              " 'itself',\n",
              " 'they',\n",
              " 'them',\n",
              " 'their',\n",
              " 'theirs',\n",
              " 'themselves',\n",
              " 'what',\n",
              " 'which',\n",
              " 'who',\n",
              " 'whom',\n",
              " 'this',\n",
              " 'that',\n",
              " \"that'll\",\n",
              " 'these',\n",
              " 'those',\n",
              " 'am',\n",
              " 'is',\n",
              " 'are',\n",
              " 'was',\n",
              " 'were',\n",
              " 'be',\n",
              " 'been',\n",
              " 'being',\n",
              " 'have',\n",
              " 'has',\n",
              " 'had',\n",
              " 'having',\n",
              " 'do',\n",
              " 'does',\n",
              " 'did',\n",
              " 'doing',\n",
              " 'a',\n",
              " 'an',\n",
              " 'the',\n",
              " 'and',\n",
              " 'but',\n",
              " 'if',\n",
              " 'or',\n",
              " 'because',\n",
              " 'as',\n",
              " 'until',\n",
              " 'while',\n",
              " 'of',\n",
              " 'at',\n",
              " 'by',\n",
              " 'for',\n",
              " 'with',\n",
              " 'about',\n",
              " 'against',\n",
              " 'between',\n",
              " 'into',\n",
              " 'through',\n",
              " 'during',\n",
              " 'before',\n",
              " 'after',\n",
              " 'above',\n",
              " 'below',\n",
              " 'to',\n",
              " 'from',\n",
              " 'up',\n",
              " 'down',\n",
              " 'in',\n",
              " 'out',\n",
              " 'on',\n",
              " 'off',\n",
              " 'over',\n",
              " 'under',\n",
              " 'again',\n",
              " 'further',\n",
              " 'then',\n",
              " 'once',\n",
              " 'here',\n",
              " 'there',\n",
              " 'when',\n",
              " 'where',\n",
              " 'why',\n",
              " 'how',\n",
              " 'all',\n",
              " 'any',\n",
              " 'both',\n",
              " 'each',\n",
              " 'few',\n",
              " 'more',\n",
              " 'most',\n",
              " 'other',\n",
              " 'some',\n",
              " 'such',\n",
              " 'no',\n",
              " 'nor',\n",
              " 'not',\n",
              " 'only',\n",
              " 'own',\n",
              " 'same',\n",
              " 'so',\n",
              " 'than',\n",
              " 'too',\n",
              " 'very',\n",
              " 's',\n",
              " 't',\n",
              " 'can',\n",
              " 'will',\n",
              " 'just',\n",
              " 'don',\n",
              " \"don't\",\n",
              " 'should',\n",
              " \"should've\",\n",
              " 'now',\n",
              " 'd',\n",
              " 'll',\n",
              " 'm',\n",
              " 'o',\n",
              " 're',\n",
              " 've',\n",
              " 'y',\n",
              " 'ain',\n",
              " 'aren',\n",
              " \"aren't\",\n",
              " 'couldn',\n",
              " \"couldn't\",\n",
              " 'didn',\n",
              " \"didn't\",\n",
              " 'doesn',\n",
              " \"doesn't\",\n",
              " 'hadn',\n",
              " \"hadn't\",\n",
              " 'hasn',\n",
              " \"hasn't\",\n",
              " 'haven',\n",
              " \"haven't\",\n",
              " 'isn',\n",
              " \"isn't\",\n",
              " 'ma',\n",
              " 'mightn',\n",
              " \"mightn't\",\n",
              " 'mustn',\n",
              " \"mustn't\",\n",
              " 'needn',\n",
              " \"needn't\",\n",
              " 'shan',\n",
              " \"shan't\",\n",
              " 'shouldn',\n",
              " \"shouldn't\",\n",
              " 'wasn',\n",
              " \"wasn't\",\n",
              " 'weren',\n",
              " \"weren't\",\n",
              " 'won',\n",
              " \"won't\",\n",
              " 'wouldn',\n",
              " \"wouldn't\"]"
            ]
          },
          "metadata": {
            "tags": []
          },
          "execution_count": 6
        }
      ]
    },
    {
      "cell_type": "code",
      "metadata": {
        "id": "0G4dRAiCk-hz",
        "colab": {
          "base_uri": "https://localhost:8080/",
          "height": 197
        },
        "outputId": "d6dc6a78-e47a-49f9-a36f-88f1d924b3d6"
      },
      "source": [
        "df = pd.read_csv(\"Fulldata2.csv\")\n",
        "df.head()"
      ],
      "execution_count": 7,
      "outputs": [
        {
          "output_type": "execute_result",
          "data": {
            "text/html": [
              "<div>\n",
              "<style scoped>\n",
              "    .dataframe tbody tr th:only-of-type {\n",
              "        vertical-align: middle;\n",
              "    }\n",
              "\n",
              "    .dataframe tbody tr th {\n",
              "        vertical-align: top;\n",
              "    }\n",
              "\n",
              "    .dataframe thead th {\n",
              "        text-align: right;\n",
              "    }\n",
              "</style>\n",
              "<table border=\"1\" class=\"dataframe\">\n",
              "  <thead>\n",
              "    <tr style=\"text-align: right;\">\n",
              "      <th></th>\n",
              "      <th>id</th>\n",
              "      <th>label</th>\n",
              "      <th>text</th>\n",
              "    </tr>\n",
              "  </thead>\n",
              "  <tbody>\n",
              "    <tr>\n",
              "      <th>0</th>\n",
              "      <td>0</td>\n",
              "      <td>0</td>\n",
              "      <td>mood can be caused by infectious diseases, nu...</td>\n",
              "    </tr>\n",
              "    <tr>\n",
              "      <th>1</th>\n",
              "      <td>1</td>\n",
              "      <td>1</td>\n",
              "      <td>With all of this unnessary  family drama, I fe...</td>\n",
              "    </tr>\n",
              "    <tr>\n",
              "      <th>2</th>\n",
              "      <td>2</td>\n",
              "      <td>0</td>\n",
              "      <td>I'm going to keep banging on about this, cos i...</td>\n",
              "    </tr>\n",
              "    <tr>\n",
              "      <th>3</th>\n",
              "      <td>3</td>\n",
              "      <td>0</td>\n",
              "      <td>Ugh. Woke up to the same acne covered face thi...</td>\n",
              "    </tr>\n",
              "    <tr>\n",
              "      <th>4</th>\n",
              "      <td>4</td>\n",
              "      <td>0</td>\n",
              "      <td>Portable Transparent Tobacco Rolling Machine  ...</td>\n",
              "    </tr>\n",
              "  </tbody>\n",
              "</table>\n",
              "</div>"
            ],
            "text/plain": [
              "   id  label                                               text\n",
              "0   0      0   mood can be caused by infectious diseases, nu...\n",
              "1   1      1  With all of this unnessary  family drama, I fe...\n",
              "2   2      0  I'm going to keep banging on about this, cos i...\n",
              "3   3      0  Ugh. Woke up to the same acne covered face thi...\n",
              "4   4      0  Portable Transparent Tobacco Rolling Machine  ..."
            ]
          },
          "metadata": {
            "tags": []
          },
          "execution_count": 7
        }
      ]
    },
    {
      "cell_type": "code",
      "metadata": {
        "id": "CKAutQ03sbtv"
      },
      "source": [
        ""
      ],
      "execution_count": null,
      "outputs": []
    },
    {
      "cell_type": "code",
      "metadata": {
        "id": "BGBRps5PdmKK"
      },
      "source": [
        "#REMOVE MENTIONS \n",
        "import string\n",
        "#re.sub(\"@[A-Za-z0-9]+\",\"\", \"@thisisauser text\")\n",
        "\n",
        "def removemention(txt):\n",
        "  return \" \".join(re.sub(\"@[A-Za-z0-9]+\",\"\",txt).split())\n",
        "\n",
        "#REMOVE URLS\n",
        "import re\n",
        "def remove_url(txt):\n",
        "    return \" \".join(re.sub(\"(@[^0-9A-Za-z \\t])|(\\w+:\\/\\/\\S+)\", \"\", txt).split())\n",
        "\n",
        "def cleaning_PicURL (txt):\n",
        "\n",
        "    #text = re.sub(r'pic.twitter.com/[\\w]*',\"\", txt)\n",
        "    return \" \".join(re.sub(r'pic.twitter.com/[\\w]*',\"\", txt).split())\n",
        "\n",
        "df['tweet'] = [remove_url(text) for text in df['text']]\n",
        "df['tweet']=[removemention(tweet) for tweet in df['tweet']]\n",
        "df['tweet']=[cleaning_PicURL(tweet) for tweet in df['tweet']]\n",
        "df['tweet'] = df['tweet'].apply(lambda x:''.join([i for i in x if i not in string.punctuation]))\n",
        "\n",
        "#all_tweets_no_urls[:20]"
      ],
      "execution_count": 9,
      "outputs": []
    },
    {
      "cell_type": "code",
      "metadata": {
        "colab": {
          "base_uri": "https://localhost:8080/",
          "height": 647
        },
        "id": "-feNQpnQsQAH",
        "outputId": "72016c7d-1804-4d61-9877-07727363f235"
      },
      "source": [
        "df.head(20)"
      ],
      "execution_count": 10,
      "outputs": [
        {
          "output_type": "execute_result",
          "data": {
            "text/html": [
              "<div>\n",
              "<style scoped>\n",
              "    .dataframe tbody tr th:only-of-type {\n",
              "        vertical-align: middle;\n",
              "    }\n",
              "\n",
              "    .dataframe tbody tr th {\n",
              "        vertical-align: top;\n",
              "    }\n",
              "\n",
              "    .dataframe thead th {\n",
              "        text-align: right;\n",
              "    }\n",
              "</style>\n",
              "<table border=\"1\" class=\"dataframe\">\n",
              "  <thead>\n",
              "    <tr style=\"text-align: right;\">\n",
              "      <th></th>\n",
              "      <th>id</th>\n",
              "      <th>label</th>\n",
              "      <th>text</th>\n",
              "      <th>tweet</th>\n",
              "    </tr>\n",
              "  </thead>\n",
              "  <tbody>\n",
              "    <tr>\n",
              "      <th>0</th>\n",
              "      <td>0</td>\n",
              "      <td>0</td>\n",
              "      <td>mood can be caused by infectious diseases, nu...</td>\n",
              "      <td>mood can be caused by infectious diseases nutr...</td>\n",
              "    </tr>\n",
              "    <tr>\n",
              "      <th>1</th>\n",
              "      <td>1</td>\n",
              "      <td>1</td>\n",
              "      <td>With all of this unnessary  family drama, I fe...</td>\n",
              "      <td>With all of this unnessary family drama I feel...</td>\n",
              "    </tr>\n",
              "    <tr>\n",
              "      <th>2</th>\n",
              "      <td>2</td>\n",
              "      <td>0</td>\n",
              "      <td>I'm going to keep banging on about this, cos i...</td>\n",
              "      <td>Im going to keep banging on about this cos its...</td>\n",
              "    </tr>\n",
              "    <tr>\n",
              "      <th>3</th>\n",
              "      <td>3</td>\n",
              "      <td>0</td>\n",
              "      <td>Ugh. Woke up to the same acne covered face thi...</td>\n",
              "      <td>Ugh Woke up to the same acne covered face this...</td>\n",
              "    </tr>\n",
              "    <tr>\n",
              "      <th>4</th>\n",
              "      <td>4</td>\n",
              "      <td>0</td>\n",
              "      <td>Portable Transparent Tobacco Rolling Machine  ...</td>\n",
              "      <td>Portable Transparent Tobacco Rolling Machine</td>\n",
              "    </tr>\n",
              "    <tr>\n",
              "      <th>5</th>\n",
              "      <td>5</td>\n",
              "      <td>0</td>\n",
              "      <td>Certain medications are known to cause  mood i...</td>\n",
              "      <td>Certain medications are known to cause mood in...</td>\n",
              "    </tr>\n",
              "    <tr>\n",
              "      <th>6</th>\n",
              "      <td>6</td>\n",
              "      <td>1</td>\n",
              "      <td>I feel so sad because i can't be happy, and th...</td>\n",
              "      <td>I feel so sad because i cant be happy and that...</td>\n",
              "    </tr>\n",
              "    <tr>\n",
              "      <th>7</th>\n",
              "      <td>7</td>\n",
              "      <td>1</td>\n",
              "      <td>I went to church with my mom and a huge chunk ...</td>\n",
              "      <td>I went to church with my mom and a huge chunk ...</td>\n",
              "    </tr>\n",
              "    <tr>\n",
              "      <th>8</th>\n",
              "      <td>8</td>\n",
              "      <td>1</td>\n",
              "      <td>No love here....    pic.twitter.com/FuvBXIPRnu</td>\n",
              "      <td>No love here</td>\n",
              "    </tr>\n",
              "    <tr>\n",
              "      <th>9</th>\n",
              "      <td>9</td>\n",
              "      <td>1</td>\n",
              "      <td>I see so many people moving forward with their...</td>\n",
              "      <td>I see so many people moving forward with their...</td>\n",
              "    </tr>\n",
              "    <tr>\n",
              "      <th>10</th>\n",
              "      <td>10</td>\n",
              "      <td>0</td>\n",
              "      <td>Didn’t get to live through the  but I’ve sure ...</td>\n",
              "      <td>Didn’t get to live through the but I’ve sure b...</td>\n",
              "    </tr>\n",
              "    <tr>\n",
              "      <th>11</th>\n",
              "      <td>11</td>\n",
              "      <td>0</td>\n",
              "      <td>bro why is everyone so  and blacked out? i was...</td>\n",
              "      <td>bro why is everyone so and blacked out i was g...</td>\n",
              "    </tr>\n",
              "    <tr>\n",
              "      <th>12</th>\n",
              "      <td>12</td>\n",
              "      <td>1</td>\n",
              "      <td>So I’m trying to help myself. To understand my...</td>\n",
              "      <td>So I’m trying to help myself To understand my ...</td>\n",
              "    </tr>\n",
              "    <tr>\n",
              "      <th>13</th>\n",
              "      <td>13</td>\n",
              "      <td>1</td>\n",
              "      <td>i just need for someone to rub my head tonight...</td>\n",
              "      <td>i just need for someone to rub my head tonight</td>\n",
              "    </tr>\n",
              "    <tr>\n",
              "      <th>14</th>\n",
              "      <td>14</td>\n",
              "      <td>1</td>\n",
              "      <td>There days where I wanna end my life so bad be...</td>\n",
              "      <td>There days where I wanna end my life so bad be...</td>\n",
              "    </tr>\n",
              "    <tr>\n",
              "      <th>15</th>\n",
              "      <td>15</td>\n",
              "      <td>0</td>\n",
              "      <td>Your inner bitch will do all she can to convin...</td>\n",
              "      <td>Your inner bitch will do all she can to convin...</td>\n",
              "    </tr>\n",
              "    <tr>\n",
              "      <th>16</th>\n",
              "      <td>16</td>\n",
              "      <td>1</td>\n",
              "      <td>Well i guess no clockwork for me ????</td>\n",
              "      <td>Well i guess no clockwork for me</td>\n",
              "    </tr>\n",
              "    <tr>\n",
              "      <th>17</th>\n",
              "      <td>17</td>\n",
              "      <td>0</td>\n",
              "      <td>\"It's all pointless..\" - a statement a  brain ...</td>\n",
              "      <td>Its all pointless  a statement a brain would m...</td>\n",
              "    </tr>\n",
              "    <tr>\n",
              "      <th>18</th>\n",
              "      <td>18</td>\n",
              "      <td>0</td>\n",
              "      <td>Have you ever danced till you fainted! It has ...</td>\n",
              "      <td>Have you ever danced till you fainted It has a...</td>\n",
              "    </tr>\n",
              "    <tr>\n",
              "      <th>19</th>\n",
              "      <td>19</td>\n",
              "      <td>0</td>\n",
              "      <td>You keep losing your self respect , if u keep ...</td>\n",
              "      <td>You keep losing your self respect  if u keep g...</td>\n",
              "    </tr>\n",
              "  </tbody>\n",
              "</table>\n",
              "</div>"
            ],
            "text/plain": [
              "    id  ...                                              tweet\n",
              "0    0  ...  mood can be caused by infectious diseases nutr...\n",
              "1    1  ...  With all of this unnessary family drama I feel...\n",
              "2    2  ...  Im going to keep banging on about this cos its...\n",
              "3    3  ...  Ugh Woke up to the same acne covered face this...\n",
              "4    4  ...       Portable Transparent Tobacco Rolling Machine\n",
              "5    5  ...  Certain medications are known to cause mood in...\n",
              "6    6  ...  I feel so sad because i cant be happy and that...\n",
              "7    7  ...  I went to church with my mom and a huge chunk ...\n",
              "8    8  ...                                       No love here\n",
              "9    9  ...  I see so many people moving forward with their...\n",
              "10  10  ...  Didn’t get to live through the but I’ve sure b...\n",
              "11  11  ...  bro why is everyone so and blacked out i was g...\n",
              "12  12  ...  So I’m trying to help myself To understand my ...\n",
              "13  13  ...    i just need for someone to rub my head tonight \n",
              "14  14  ...  There days where I wanna end my life so bad be...\n",
              "15  15  ...  Your inner bitch will do all she can to convin...\n",
              "16  16  ...                  Well i guess no clockwork for me \n",
              "17  17  ...  Its all pointless  a statement a brain would m...\n",
              "18  18  ...  Have you ever danced till you fainted It has a...\n",
              "19  19  ...  You keep losing your self respect  if u keep g...\n",
              "\n",
              "[20 rows x 4 columns]"
            ]
          },
          "metadata": {
            "tags": []
          },
          "execution_count": 10
        }
      ]
    },
    {
      "cell_type": "code",
      "metadata": {
        "colab": {
          "base_uri": "https://localhost:8080/"
        },
        "id": "BB2ipR120RNm",
        "outputId": "8cce3f33-9c9e-407a-9294-f3c21aa4c69a"
      },
      "source": [
        "df['tweet'][2].split()"
      ],
      "execution_count": 11,
      "outputs": [
        {
          "output_type": "execute_result",
          "data": {
            "text/plain": [
              "['Im',\n",
              " 'going',\n",
              " 'to',\n",
              " 'keep',\n",
              " 'banging',\n",
              " 'on',\n",
              " 'about',\n",
              " 'this',\n",
              " 'cos',\n",
              " 'its',\n",
              " 'true',\n",
              " 'What',\n",
              " 'you',\n",
              " 'focus',\n",
              " 'on',\n",
              " 'you',\n",
              " 'get',\n",
              " 'more',\n",
              " 'of',\n",
              " 'Stop',\n",
              " 'telling',\n",
              " 'yourself',\n",
              " 'youre',\n",
              " 'or',\n",
              " 'Tell',\n",
              " 'yourself',\n",
              " 'youre',\n",
              " 'happy',\n",
              " 'strong',\n",
              " 'confident',\n",
              " 'powerful',\n",
              " 'Not',\n",
              " 'only',\n",
              " 'cos',\n",
              " 'you',\n",
              " 'ARE',\n",
              " 'but',\n",
              " 'cos',\n",
              " 'your',\n",
              " 'brilliant',\n",
              " 'mind',\n",
              " 'listens',\n",
              " 'to',\n",
              " 'what',\n",
              " 'you',\n",
              " 'tell',\n",
              " 'it']"
            ]
          },
          "metadata": {
            "tags": []
          },
          "execution_count": 11
        }
      ]
    },
    {
      "cell_type": "code",
      "metadata": {
        "colab": {
          "base_uri": "https://localhost:8080/",
          "height": 52
        },
        "id": "SQxoJYmv99fl",
        "outputId": "05c4d824-2033-4a4e-f428-e8beccdb844d"
      },
      "source": [
        "df['tweet'][7]"
      ],
      "execution_count": 12,
      "outputs": [
        {
          "output_type": "execute_result",
          "data": {
            "application/vnd.google.colaboratory.intrinsic+json": {
              "type": "string"
            },
            "text/plain": [
              "'I went to church with my mom and a huge chunk of the sermon was basically “if you’re it’s because your faith is weak” and  this is why I don’t go to church or tell my mom I’m on antidepressants '"
            ]
          },
          "metadata": {
            "tags": []
          },
          "execution_count": 12
        }
      ]
    },
    {
      "cell_type": "code",
      "metadata": {
        "colab": {
          "base_uri": "https://localhost:8080/"
        },
        "id": "mI37fUm4s_E0",
        "outputId": "4b2de44c-9865-42a0-ac25-67a24f759fcd"
      },
      "source": [
        "\n",
        "words_in_tweet = [tweet.lower().split() for tweet in df['tweet']]\n",
        "words_in_tweet[2:5]"
      ],
      "execution_count": 13,
      "outputs": [
        {
          "output_type": "execute_result",
          "data": {
            "text/plain": [
              "[['im',\n",
              "  'going',\n",
              "  'to',\n",
              "  'keep',\n",
              "  'banging',\n",
              "  'on',\n",
              "  'about',\n",
              "  'this',\n",
              "  'cos',\n",
              "  'its',\n",
              "  'true',\n",
              "  'what',\n",
              "  'you',\n",
              "  'focus',\n",
              "  'on',\n",
              "  'you',\n",
              "  'get',\n",
              "  'more',\n",
              "  'of',\n",
              "  'stop',\n",
              "  'telling',\n",
              "  'yourself',\n",
              "  'youre',\n",
              "  'or',\n",
              "  'tell',\n",
              "  'yourself',\n",
              "  'youre',\n",
              "  'happy',\n",
              "  'strong',\n",
              "  'confident',\n",
              "  'powerful',\n",
              "  'not',\n",
              "  'only',\n",
              "  'cos',\n",
              "  'you',\n",
              "  'are',\n",
              "  'but',\n",
              "  'cos',\n",
              "  'your',\n",
              "  'brilliant',\n",
              "  'mind',\n",
              "  'listens',\n",
              "  'to',\n",
              "  'what',\n",
              "  'you',\n",
              "  'tell',\n",
              "  'it'],\n",
              " ['ugh',\n",
              "  'woke',\n",
              "  'up',\n",
              "  'to',\n",
              "  'the',\n",
              "  'same',\n",
              "  'acne',\n",
              "  'covered',\n",
              "  'face',\n",
              "  'this',\n",
              "  'morning',\n",
              "  'yyayyy'],\n",
              " ['portable', 'transparent', 'tobacco', 'rolling', 'machine']]"
            ]
          },
          "metadata": {
            "tags": []
          },
          "execution_count": 13
        }
      ]
    },
    {
      "cell_type": "code",
      "metadata": {
        "colab": {
          "base_uri": "https://localhost:8080/"
        },
        "id": "twMsvqRQtThx",
        "outputId": "3c25adae-1201-4e4d-a198-222180dcd4e0"
      },
      "source": [
        "# List of all words across tweets\n",
        "all_words_no_urls = list(itertools.chain(*words_in_tweet))\n",
        "\n",
        "# Create counter\n",
        "counts_no_urls = collections.Counter(all_words_no_urls)\n",
        "\n",
        "counts_no_urls.most_common(15)"
      ],
      "execution_count": 14,
      "outputs": [
        {
          "output_type": "execute_result",
          "data": {
            "text/plain": [
              "[('i', 1554),\n",
              " ('to', 1461),\n",
              " ('the', 1329),\n",
              " ('and', 1094),\n",
              " ('a', 995),\n",
              " ('you', 763),\n",
              " ('of', 747),\n",
              " ('my', 730),\n",
              " ('is', 688),\n",
              " ('in', 621),\n",
              " ('it', 545),\n",
              " ('depression', 538),\n",
              " ('for', 490),\n",
              " ('that', 409),\n",
              " ('me', 393)]"
            ]
          },
          "metadata": {
            "tags": []
          },
          "execution_count": 14
        }
      ]
    },
    {
      "cell_type": "code",
      "metadata": {
        "colab": {
          "base_uri": "https://localhost:8080/",
          "height": 197
        },
        "id": "Qa_tWdzh7a1V",
        "outputId": "c078d3d4-5548-4a42-9d20-e2bf5f9ed4f5"
      },
      "source": [
        "clean_tweets_no_urls = pd.DataFrame(counts_no_urls.most_common(15),\n",
        "                             columns=['words', 'count'])\n",
        "\n",
        "clean_tweets_no_urls.head()"
      ],
      "execution_count": 15,
      "outputs": [
        {
          "output_type": "execute_result",
          "data": {
            "text/html": [
              "<div>\n",
              "<style scoped>\n",
              "    .dataframe tbody tr th:only-of-type {\n",
              "        vertical-align: middle;\n",
              "    }\n",
              "\n",
              "    .dataframe tbody tr th {\n",
              "        vertical-align: top;\n",
              "    }\n",
              "\n",
              "    .dataframe thead th {\n",
              "        text-align: right;\n",
              "    }\n",
              "</style>\n",
              "<table border=\"1\" class=\"dataframe\">\n",
              "  <thead>\n",
              "    <tr style=\"text-align: right;\">\n",
              "      <th></th>\n",
              "      <th>words</th>\n",
              "      <th>count</th>\n",
              "    </tr>\n",
              "  </thead>\n",
              "  <tbody>\n",
              "    <tr>\n",
              "      <th>0</th>\n",
              "      <td>i</td>\n",
              "      <td>1554</td>\n",
              "    </tr>\n",
              "    <tr>\n",
              "      <th>1</th>\n",
              "      <td>to</td>\n",
              "      <td>1461</td>\n",
              "    </tr>\n",
              "    <tr>\n",
              "      <th>2</th>\n",
              "      <td>the</td>\n",
              "      <td>1329</td>\n",
              "    </tr>\n",
              "    <tr>\n",
              "      <th>3</th>\n",
              "      <td>and</td>\n",
              "      <td>1094</td>\n",
              "    </tr>\n",
              "    <tr>\n",
              "      <th>4</th>\n",
              "      <td>a</td>\n",
              "      <td>995</td>\n",
              "    </tr>\n",
              "  </tbody>\n",
              "</table>\n",
              "</div>"
            ],
            "text/plain": [
              "  words  count\n",
              "0     i   1554\n",
              "1    to   1461\n",
              "2   the   1329\n",
              "3   and   1094\n",
              "4     a    995"
            ]
          },
          "metadata": {
            "tags": []
          },
          "execution_count": 15
        }
      ]
    },
    {
      "cell_type": "code",
      "metadata": {
        "colab": {
          "base_uri": "https://localhost:8080/",
          "height": 499
        },
        "id": "Fh4q2Sw07klS",
        "outputId": "e0471296-6d03-497e-a182-ad0174d567d1"
      },
      "source": [
        "import matplotlib.pyplot as plt\n",
        "fig, ax = plt.subplots(figsize=(8, 8))\n",
        "\n",
        "# Plot horizontal bar graph\n",
        "clean_tweets_no_urls.sort_values(by='count').plot.barh(x='words',\n",
        "                      y='count',\n",
        "                      ax=ax,\n",
        "                      color=\"purple\")\n",
        "\n",
        "ax.set_title(\"Common Words Found in Tweets (Including All Words)\")\n",
        "\n",
        "plt.show()"
      ],
      "execution_count": 16,
      "outputs": [
        {
          "output_type": "display_data",
          "data": {
            "image/png": "[encoded data removed]",
            "text/plain": [
              "<Figure size 576x576 with 1 Axes>"
            ]
          },
          "metadata": {
            "tags": [],
            "needs_background": "light"
          }
        }
      ]
    },
    {
      "cell_type": "code",
      "metadata": {
        "id": "vXkWQZbsxTmt"
      },
      "source": [
        "#DELETE STOPWORDS\n",
        "df['tweet']=df['tweet'].apply(lambda x: x.lower())\n",
        "df['tweetstop'] = df['tweet'].apply(lambda x: ' '.join([item for item in x.split() if item not in stopwords]))\n",
        "#dftrain.head(10)"
      ],
      "execution_count": 17,
      "outputs": []
    },
    {
      "cell_type": "code",
      "metadata": {
        "colab": {
          "base_uri": "https://localhost:8080/",
          "height": 407
        },
        "id": "C9_D010xJcWi",
        "outputId": "68a3d32d-02c2-4702-a658-1bf2b30f4014"
      },
      "source": [
        "df"
      ],
      "execution_count": 18,
      "outputs": [
        {
          "output_type": "execute_result",
          "data": {
            "text/html": [
              "<div>\n",
              "<style scoped>\n",
              "    .dataframe tbody tr th:only-of-type {\n",
              "        vertical-align: middle;\n",
              "    }\n",
              "\n",
              "    .dataframe tbody tr th {\n",
              "        vertical-align: top;\n",
              "    }\n",
              "\n",
              "    .dataframe thead th {\n",
              "        text-align: right;\n",
              "    }\n",
              "</style>\n",
              "<table border=\"1\" class=\"dataframe\">\n",
              "  <thead>\n",
              "    <tr style=\"text-align: right;\">\n",
              "      <th></th>\n",
              "      <th>id</th>\n",
              "      <th>label</th>\n",
              "      <th>text</th>\n",
              "      <th>tweet</th>\n",
              "      <th>tweetstop</th>\n",
              "    </tr>\n",
              "  </thead>\n",
              "  <tbody>\n",
              "    <tr>\n",
              "      <th>0</th>\n",
              "      <td>0</td>\n",
              "      <td>0</td>\n",
              "      <td>mood can be caused by infectious diseases, nu...</td>\n",
              "      <td>mood can be caused by infectious diseases nutr...</td>\n",
              "      <td>mood caused infectious diseases nutritional de...</td>\n",
              "    </tr>\n",
              "    <tr>\n",
              "      <th>1</th>\n",
              "      <td>1</td>\n",
              "      <td>1</td>\n",
              "      <td>With all of this unnessary  family drama, I fe...</td>\n",
              "      <td>with all of this unnessary family drama i feel...</td>\n",
              "      <td>unnessary family drama feel like moving far aw...</td>\n",
              "    </tr>\n",
              "    <tr>\n",
              "      <th>2</th>\n",
              "      <td>2</td>\n",
              "      <td>0</td>\n",
              "      <td>I'm going to keep banging on about this, cos i...</td>\n",
              "      <td>im going to keep banging on about this cos its...</td>\n",
              "      <td>im going keep banging cos true focus get stop ...</td>\n",
              "    </tr>\n",
              "    <tr>\n",
              "      <th>3</th>\n",
              "      <td>3</td>\n",
              "      <td>0</td>\n",
              "      <td>Ugh. Woke up to the same acne covered face thi...</td>\n",
              "      <td>ugh woke up to the same acne covered face this...</td>\n",
              "      <td>ugh woke acne covered face morning yyayyy</td>\n",
              "    </tr>\n",
              "    <tr>\n",
              "      <th>4</th>\n",
              "      <td>4</td>\n",
              "      <td>0</td>\n",
              "      <td>Portable Transparent Tobacco Rolling Machine  ...</td>\n",
              "      <td>portable transparent tobacco rolling machine</td>\n",
              "      <td>portable transparent tobacco rolling machine</td>\n",
              "    </tr>\n",
              "    <tr>\n",
              "      <th>...</th>\n",
              "      <td>...</td>\n",
              "      <td>...</td>\n",
              "      <td>...</td>\n",
              "      <td>...</td>\n",
              "      <td>...</td>\n",
              "    </tr>\n",
              "    <tr>\n",
              "      <th>2995</th>\n",
              "      <td>2995</td>\n",
              "      <td>0</td>\n",
              "      <td>well, actually he's now sitting at his compute...</td>\n",
              "      <td>well actually hes now sitting at his computer ...</td>\n",
              "      <td>well actually hes sitting computer updating tw...</td>\n",
              "    </tr>\n",
              "    <tr>\n",
              "      <th>2996</th>\n",
              "      <td>2996</td>\n",
              "      <td>0</td>\n",
              "      <td>@HARLEMVIXEN Good morning</td>\n",
              "      <td>good morning</td>\n",
              "      <td>good morning</td>\n",
              "    </tr>\n",
              "    <tr>\n",
              "      <th>2997</th>\n",
              "      <td>2997</td>\n",
              "      <td>0</td>\n",
              "      <td>Just had three dreams where i was supposed to ...</td>\n",
              "      <td>just had three dreams where i was supposed to ...</td>\n",
              "      <td>three dreams supposed school freaking tgisb</td>\n",
              "    </tr>\n",
              "    <tr>\n",
              "      <th>2998</th>\n",
              "      <td>2998</td>\n",
              "      <td>0</td>\n",
              "      <td>@pgeorges I prefer running native OSX apps whe...</td>\n",
              "      <td>i prefer running native osx apps when i can</td>\n",
              "      <td>prefer running native osx apps</td>\n",
              "    </tr>\n",
              "    <tr>\n",
              "      <th>2999</th>\n",
              "      <td>2999</td>\n",
              "      <td>0</td>\n",
              "      <td>NEW SHOES!!!  thanks Lizzie!!! http://twitpic....</td>\n",
              "      <td>new shoes thanks lizzie</td>\n",
              "      <td>new shoes thanks lizzie</td>\n",
              "    </tr>\n",
              "  </tbody>\n",
              "</table>\n",
              "<p>3000 rows × 5 columns</p>\n",
              "</div>"
            ],
            "text/plain": [
              "        id  ...                                          tweetstop\n",
              "0        0  ...  mood caused infectious diseases nutritional de...\n",
              "1        1  ...  unnessary family drama feel like moving far aw...\n",
              "2        2  ...  im going keep banging cos true focus get stop ...\n",
              "3        3  ...          ugh woke acne covered face morning yyayyy\n",
              "4        4  ...       portable transparent tobacco rolling machine\n",
              "...    ...  ...                                                ...\n",
              "2995  2995  ...  well actually hes sitting computer updating tw...\n",
              "2996  2996  ...                                       good morning\n",
              "2997  2997  ...        three dreams supposed school freaking tgisb\n",
              "2998  2998  ...                     prefer running native osx apps\n",
              "2999  2999  ...                            new shoes thanks lizzie\n",
              "\n",
              "[3000 rows x 5 columns]"
            ]
          },
          "metadata": {
            "tags": []
          },
          "execution_count": 18
        }
      ]
    },
    {
      "cell_type": "code",
      "metadata": {
        "id": "JRyK8kjg_BtG"
      },
      "source": [
        "#new_df = dftrain.replace('…', \" \")"
      ],
      "execution_count": null,
      "outputs": []
    },
    {
      "cell_type": "code",
      "metadata": {
        "id": "BM66VAsA_HN-"
      },
      "source": [
        "#new_df['tweet'][7]"
      ],
      "execution_count": null,
      "outputs": []
    },
    {
      "cell_type": "code",
      "metadata": {
        "id": "EbJyCIr5KlAh"
      },
      "source": [
        ""
      ],
      "execution_count": null,
      "outputs": []
    },
    {
      "cell_type": "code",
      "metadata": {
        "id": "j3x0l1KaKlD1"
      },
      "source": [
        ""
      ],
      "execution_count": null,
      "outputs": []
    },
    {
      "cell_type": "code",
      "metadata": {
        "colab": {
          "base_uri": "https://localhost:8080/"
        },
        "id": "ynaqWTBnLmJO",
        "outputId": "b462b91c-b6c9-42cd-fc07-a9bb872eeae8"
      },
      "source": [
        "words_in_tweet = [tweet.lower().split() for tweet in df['tweetstop']]\n",
        "words_in_tweet[2:5]"
      ],
      "execution_count": 19,
      "outputs": [
        {
          "output_type": "execute_result",
          "data": {
            "text/plain": [
              "[['im',\n",
              "  'going',\n",
              "  'keep',\n",
              "  'banging',\n",
              "  'cos',\n",
              "  'true',\n",
              "  'focus',\n",
              "  'get',\n",
              "  'stop',\n",
              "  'telling',\n",
              "  'youre',\n",
              "  'tell',\n",
              "  'youre',\n",
              "  'happy',\n",
              "  'strong',\n",
              "  'confident',\n",
              "  'powerful',\n",
              "  'cos',\n",
              "  'cos',\n",
              "  'brilliant',\n",
              "  'mind',\n",
              "  'listens',\n",
              "  'tell'],\n",
              " ['ugh', 'woke', 'acne', 'covered', 'face', 'morning', 'yyayyy'],\n",
              " ['portable', 'transparent', 'tobacco', 'rolling', 'machine']]"
            ]
          },
          "metadata": {
            "tags": []
          },
          "execution_count": 19
        }
      ]
    },
    {
      "cell_type": "code",
      "metadata": {
        "colab": {
          "base_uri": "https://localhost:8080/"
        },
        "id": "P153oAt4Lp7C",
        "outputId": "fd9f7951-0901-452b-acd0-bf6b5e1feec0"
      },
      "source": [
        "# List of all words across tweets\n",
        "all_words_no_urls = list(itertools.chain(*words_in_tweet))\n",
        "\n",
        "# Create counter\n",
        "counts_no_urls = collections.Counter(all_words_no_urls)\n",
        "\n",
        "counts_no_urls.most_common(15)"
      ],
      "execution_count": 20,
      "outputs": [
        {
          "output_type": "execute_result",
          "data": {
            "text/plain": [
              "[('depression', 538),\n",
              " ('im', 319),\n",
              " ('like', 241),\n",
              " ('dont', 181),\n",
              " ('feel', 179),\n",
              " ('one', 159),\n",
              " ('life', 153),\n",
              " ('day', 153),\n",
              " ('get', 147),\n",
              " ('people', 144),\n",
              " ('know', 133),\n",
              " ('year', 132),\n",
              " ('time', 122),\n",
              " ('want', 117),\n",
              " ('today', 113)]"
            ]
          },
          "metadata": {
            "tags": []
          },
          "execution_count": 20
        }
      ]
    },
    {
      "cell_type": "code",
      "metadata": {
        "id": "ti5NjhIFKzqo"
      },
      "source": [
        ""
      ],
      "execution_count": null,
      "outputs": []
    },
    {
      "cell_type": "code",
      "metadata": {
        "colab": {
          "base_uri": "https://localhost:8080/",
          "height": 197
        },
        "id": "V_sucBSSQzF3",
        "outputId": "4c3f7784-517f-40df-ba5b-3e1185182869"
      },
      "source": [
        "clean_tweets_no_stop = pd.DataFrame(counts_no_urls.most_common(15),\n",
        "                             columns=['words', 'count'])\n",
        "\n",
        "clean_tweets_no_stop.head()"
      ],
      "execution_count": 22,
      "outputs": [
        {
          "output_type": "execute_result",
          "data": {
            "text/html": [
              "<div>\n",
              "<style scoped>\n",
              "    .dataframe tbody tr th:only-of-type {\n",
              "        vertical-align: middle;\n",
              "    }\n",
              "\n",
              "    .dataframe tbody tr th {\n",
              "        vertical-align: top;\n",
              "    }\n",
              "\n",
              "    .dataframe thead th {\n",
              "        text-align: right;\n",
              "    }\n",
              "</style>\n",
              "<table border=\"1\" class=\"dataframe\">\n",
              "  <thead>\n",
              "    <tr style=\"text-align: right;\">\n",
              "      <th></th>\n",
              "      <th>words</th>\n",
              "      <th>count</th>\n",
              "    </tr>\n",
              "  </thead>\n",
              "  <tbody>\n",
              "    <tr>\n",
              "      <th>0</th>\n",
              "      <td>depression</td>\n",
              "      <td>538</td>\n",
              "    </tr>\n",
              "    <tr>\n",
              "      <th>1</th>\n",
              "      <td>im</td>\n",
              "      <td>319</td>\n",
              "    </tr>\n",
              "    <tr>\n",
              "      <th>2</th>\n",
              "      <td>like</td>\n",
              "      <td>241</td>\n",
              "    </tr>\n",
              "    <tr>\n",
              "      <th>3</th>\n",
              "      <td>dont</td>\n",
              "      <td>181</td>\n",
              "    </tr>\n",
              "    <tr>\n",
              "      <th>4</th>\n",
              "      <td>feel</td>\n",
              "      <td>179</td>\n",
              "    </tr>\n",
              "  </tbody>\n",
              "</table>\n",
              "</div>"
            ],
            "text/plain": [
              "        words  count\n",
              "0  depression    538\n",
              "1          im    319\n",
              "2        like    241\n",
              "3        dont    181\n",
              "4        feel    179"
            ]
          },
          "metadata": {
            "tags": []
          },
          "execution_count": 22
        }
      ]
    },
    {
      "cell_type": "code",
      "metadata": {
        "colab": {
          "base_uri": "https://localhost:8080/",
          "height": 499
        },
        "id": "eWZCJR4dQln2",
        "outputId": "f3348c9f-ab3a-466a-da70-0ec912a48664"
      },
      "source": [
        "import matplotlib.pyplot as plt\n",
        "fig, ax = plt.subplots(figsize=(8, 8))\n",
        "\n",
        "# Plot horizontal bar graph\n",
        "clean_tweets_no_stop.sort_values(by='count').plot.barh(x='words',\n",
        "                      y='count',\n",
        "                      ax=ax,\n",
        "                      color=\"purple\")\n",
        "\n",
        "ax.set_title(\"Common Words Found in Tweets (Including All Words)\")\n",
        "\n",
        "plt.show()"
      ],
      "execution_count": 23,
      "outputs": [
        {
          "output_type": "display_data",
          "data": {
            "image/png": "[encoded data removed]",
            "text/plain": [
              "<Figure size 576x576 with 1 Axes>"
            ]
          },
          "metadata": {
            "tags": [],
            "needs_background": "light"
          }
        }
      ]
    },
    {
      "cell_type": "code",
      "metadata": {
        "colab": {
          "base_uri": "https://localhost:8080/",
          "height": 407
        },
        "id": "KfxhUMeAK24f",
        "outputId": "3645dac7-e20f-4477-fc97-b89c4ae607fc"
      },
      "source": [
        "df"
      ],
      "execution_count": 24,
      "outputs": [
        {
          "output_type": "execute_result",
          "data": {
            "text/html": [
              "<div>\n",
              "<style scoped>\n",
              "    .dataframe tbody tr th:only-of-type {\n",
              "        vertical-align: middle;\n",
              "    }\n",
              "\n",
              "    .dataframe tbody tr th {\n",
              "        vertical-align: top;\n",
              "    }\n",
              "\n",
              "    .dataframe thead th {\n",
              "        text-align: right;\n",
              "    }\n",
              "</style>\n",
              "<table border=\"1\" class=\"dataframe\">\n",
              "  <thead>\n",
              "    <tr style=\"text-align: right;\">\n",
              "      <th></th>\n",
              "      <th>id</th>\n",
              "      <th>label</th>\n",
              "      <th>text</th>\n",
              "      <th>tweet</th>\n",
              "      <th>tweetstop</th>\n",
              "    </tr>\n",
              "  </thead>\n",
              "  <tbody>\n",
              "    <tr>\n",
              "      <th>0</th>\n",
              "      <td>0</td>\n",
              "      <td>0</td>\n",
              "      <td>mood can be caused by infectious diseases, nu...</td>\n",
              "      <td>mood can be caused by infectious diseases nutr...</td>\n",
              "      <td>mood caused infectious diseases nutritional de...</td>\n",
              "    </tr>\n",
              "    <tr>\n",
              "      <th>1</th>\n",
              "      <td>1</td>\n",
              "      <td>1</td>\n",
              "      <td>With all of this unnessary  family drama, I fe...</td>\n",
              "      <td>with all of this unnessary family drama i feel...</td>\n",
              "      <td>unnessary family drama feel like moving far aw...</td>\n",
              "    </tr>\n",
              "    <tr>\n",
              "      <th>2</th>\n",
              "      <td>2</td>\n",
              "      <td>0</td>\n",
              "      <td>I'm going to keep banging on about this, cos i...</td>\n",
              "      <td>im going to keep banging on about this cos its...</td>\n",
              "      <td>im going keep banging cos true focus get stop ...</td>\n",
              "    </tr>\n",
              "    <tr>\n",
              "      <th>3</th>\n",
              "      <td>3</td>\n",
              "      <td>0</td>\n",
              "      <td>Ugh. Woke up to the same acne covered face thi...</td>\n",
              "      <td>ugh woke up to the same acne covered face this...</td>\n",
              "      <td>ugh woke acne covered face morning yyayyy</td>\n",
              "    </tr>\n",
              "    <tr>\n",
              "      <th>4</th>\n",
              "      <td>4</td>\n",
              "      <td>0</td>\n",
              "      <td>Portable Transparent Tobacco Rolling Machine  ...</td>\n",
              "      <td>portable transparent tobacco rolling machine</td>\n",
              "      <td>portable transparent tobacco rolling machine</td>\n",
              "    </tr>\n",
              "    <tr>\n",
              "      <th>...</th>\n",
              "      <td>...</td>\n",
              "      <td>...</td>\n",
              "      <td>...</td>\n",
              "      <td>...</td>\n",
              "      <td>...</td>\n",
              "    </tr>\n",
              "    <tr>\n",
              "      <th>2995</th>\n",
              "      <td>2995</td>\n",
              "      <td>0</td>\n",
              "      <td>well, actually he's now sitting at his compute...</td>\n",
              "      <td>well actually hes now sitting at his computer ...</td>\n",
              "      <td>well actually hes sitting computer updating tw...</td>\n",
              "    </tr>\n",
              "    <tr>\n",
              "      <th>2996</th>\n",
              "      <td>2996</td>\n",
              "      <td>0</td>\n",
              "      <td>@HARLEMVIXEN Good morning</td>\n",
              "      <td>good morning</td>\n",
              "      <td>good morning</td>\n",
              "    </tr>\n",
              "    <tr>\n",
              "      <th>2997</th>\n",
              "      <td>2997</td>\n",
              "      <td>0</td>\n",
              "      <td>Just had three dreams where i was supposed to ...</td>\n",
              "      <td>just had three dreams where i was supposed to ...</td>\n",
              "      <td>three dreams supposed school freaking tgisb</td>\n",
              "    </tr>\n",
              "    <tr>\n",
              "      <th>2998</th>\n",
              "      <td>2998</td>\n",
              "      <td>0</td>\n",
              "      <td>@pgeorges I prefer running native OSX apps whe...</td>\n",
              "      <td>i prefer running native osx apps when i can</td>\n",
              "      <td>prefer running native osx apps</td>\n",
              "    </tr>\n",
              "    <tr>\n",
              "      <th>2999</th>\n",
              "      <td>2999</td>\n",
              "      <td>0</td>\n",
              "      <td>NEW SHOES!!!  thanks Lizzie!!! http://twitpic....</td>\n",
              "      <td>new shoes thanks lizzie</td>\n",
              "      <td>new shoes thanks lizzie</td>\n",
              "    </tr>\n",
              "  </tbody>\n",
              "</table>\n",
              "<p>3000 rows × 5 columns</p>\n",
              "</div>"
            ],
            "text/plain": [
              "        id  ...                                          tweetstop\n",
              "0        0  ...  mood caused infectious diseases nutritional de...\n",
              "1        1  ...  unnessary family drama feel like moving far aw...\n",
              "2        2  ...  im going keep banging cos true focus get stop ...\n",
              "3        3  ...          ugh woke acne covered face morning yyayyy\n",
              "4        4  ...       portable transparent tobacco rolling machine\n",
              "...    ...  ...                                                ...\n",
              "2995  2995  ...  well actually hes sitting computer updating tw...\n",
              "2996  2996  ...                                       good morning\n",
              "2997  2997  ...        three dreams supposed school freaking tgisb\n",
              "2998  2998  ...                     prefer running native osx apps\n",
              "2999  2999  ...                            new shoes thanks lizzie\n",
              "\n",
              "[3000 rows x 5 columns]"
            ]
          },
          "metadata": {
            "tags": []
          },
          "execution_count": 24
        }
      ]
    },
    {
      "cell_type": "code",
      "metadata": {
        "id": "lfnqmSE8NjZi"
      },
      "source": [
        "df['tweetstop']=df['tweetstop'].apply(lambda x: x.encode('ascii', 'ignore').decode('ascii'))\n"
      ],
      "execution_count": 25,
      "outputs": []
    },
    {
      "cell_type": "code",
      "metadata": {
        "colab": {
          "base_uri": "https://localhost:8080/",
          "height": 407
        },
        "id": "SIPjdw-sOxzh",
        "outputId": "6dd74d30-f9ef-4726-f9df-2930b55562ab"
      },
      "source": [
        "df"
      ],
      "execution_count": 26,
      "outputs": [
        {
          "output_type": "execute_result",
          "data": {
            "text/html": [
              "<div>\n",
              "<style scoped>\n",
              "    .dataframe tbody tr th:only-of-type {\n",
              "        vertical-align: middle;\n",
              "    }\n",
              "\n",
              "    .dataframe tbody tr th {\n",
              "        vertical-align: top;\n",
              "    }\n",
              "\n",
              "    .dataframe thead th {\n",
              "        text-align: right;\n",
              "    }\n",
              "</style>\n",
              "<table border=\"1\" class=\"dataframe\">\n",
              "  <thead>\n",
              "    <tr style=\"text-align: right;\">\n",
              "      <th></th>\n",
              "      <th>id</th>\n",
              "      <th>label</th>\n",
              "      <th>text</th>\n",
              "      <th>tweet</th>\n",
              "      <th>tweetstop</th>\n",
              "    </tr>\n",
              "  </thead>\n",
              "  <tbody>\n",
              "    <tr>\n",
              "      <th>0</th>\n",
              "      <td>0</td>\n",
              "      <td>0</td>\n",
              "      <td>mood can be caused by infectious diseases, nu...</td>\n",
              "      <td>mood can be caused by infectious diseases nutr...</td>\n",
              "      <td>mood caused infectious diseases nutritional de...</td>\n",
              "    </tr>\n",
              "    <tr>\n",
              "      <th>1</th>\n",
              "      <td>1</td>\n",
              "      <td>1</td>\n",
              "      <td>With all of this unnessary  family drama, I fe...</td>\n",
              "      <td>with all of this unnessary family drama i feel...</td>\n",
              "      <td>unnessary family drama feel like moving far aw...</td>\n",
              "    </tr>\n",
              "    <tr>\n",
              "      <th>2</th>\n",
              "      <td>2</td>\n",
              "      <td>0</td>\n",
              "      <td>I'm going to keep banging on about this, cos i...</td>\n",
              "      <td>im going to keep banging on about this cos its...</td>\n",
              "      <td>im going keep banging cos true focus get stop ...</td>\n",
              "    </tr>\n",
              "    <tr>\n",
              "      <th>3</th>\n",
              "      <td>3</td>\n",
              "      <td>0</td>\n",
              "      <td>Ugh. Woke up to the same acne covered face thi...</td>\n",
              "      <td>ugh woke up to the same acne covered face this...</td>\n",
              "      <td>ugh woke acne covered face morning yyayyy</td>\n",
              "    </tr>\n",
              "    <tr>\n",
              "      <th>4</th>\n",
              "      <td>4</td>\n",
              "      <td>0</td>\n",
              "      <td>Portable Transparent Tobacco Rolling Machine  ...</td>\n",
              "      <td>portable transparent tobacco rolling machine</td>\n",
              "      <td>portable transparent tobacco rolling machine</td>\n",
              "    </tr>\n",
              "    <tr>\n",
              "      <th>...</th>\n",
              "      <td>...</td>\n",
              "      <td>...</td>\n",
              "      <td>...</td>\n",
              "      <td>...</td>\n",
              "      <td>...</td>\n",
              "    </tr>\n",
              "    <tr>\n",
              "      <th>2995</th>\n",
              "      <td>2995</td>\n",
              "      <td>0</td>\n",
              "      <td>well, actually he's now sitting at his compute...</td>\n",
              "      <td>well actually hes now sitting at his computer ...</td>\n",
              "      <td>well actually hes sitting computer updating tw...</td>\n",
              "    </tr>\n",
              "    <tr>\n",
              "      <th>2996</th>\n",
              "      <td>2996</td>\n",
              "      <td>0</td>\n",
              "      <td>@HARLEMVIXEN Good morning</td>\n",
              "      <td>good morning</td>\n",
              "      <td>good morning</td>\n",
              "    </tr>\n",
              "    <tr>\n",
              "      <th>2997</th>\n",
              "      <td>2997</td>\n",
              "      <td>0</td>\n",
              "      <td>Just had three dreams where i was supposed to ...</td>\n",
              "      <td>just had three dreams where i was supposed to ...</td>\n",
              "      <td>three dreams supposed school freaking tgisb</td>\n",
              "    </tr>\n",
              "    <tr>\n",
              "      <th>2998</th>\n",
              "      <td>2998</td>\n",
              "      <td>0</td>\n",
              "      <td>@pgeorges I prefer running native OSX apps whe...</td>\n",
              "      <td>i prefer running native osx apps when i can</td>\n",
              "      <td>prefer running native osx apps</td>\n",
              "    </tr>\n",
              "    <tr>\n",
              "      <th>2999</th>\n",
              "      <td>2999</td>\n",
              "      <td>0</td>\n",
              "      <td>NEW SHOES!!!  thanks Lizzie!!! http://twitpic....</td>\n",
              "      <td>new shoes thanks lizzie</td>\n",
              "      <td>new shoes thanks lizzie</td>\n",
              "    </tr>\n",
              "  </tbody>\n",
              "</table>\n",
              "<p>3000 rows × 5 columns</p>\n",
              "</div>"
            ],
            "text/plain": [
              "        id  ...                                          tweetstop\n",
              "0        0  ...  mood caused infectious diseases nutritional de...\n",
              "1        1  ...  unnessary family drama feel like moving far aw...\n",
              "2        2  ...  im going keep banging cos true focus get stop ...\n",
              "3        3  ...          ugh woke acne covered face morning yyayyy\n",
              "4        4  ...       portable transparent tobacco rolling machine\n",
              "...    ...  ...                                                ...\n",
              "2995  2995  ...  well actually hes sitting computer updating tw...\n",
              "2996  2996  ...                                       good morning\n",
              "2997  2997  ...        three dreams supposed school freaking tgisb\n",
              "2998  2998  ...                     prefer running native osx apps\n",
              "2999  2999  ...                            new shoes thanks lizzie\n",
              "\n",
              "[3000 rows x 5 columns]"
            ]
          },
          "metadata": {
            "tags": []
          },
          "execution_count": 26
        }
      ]
    },
    {
      "cell_type": "code",
      "metadata": {
        "id": "zD4J5jbjFs_U"
      },
      "source": [
        "df[['label','tweetstop']].to_csv('data.csv', index=False) "
      ],
      "execution_count": 27,
      "outputs": []
    }
  ]
}