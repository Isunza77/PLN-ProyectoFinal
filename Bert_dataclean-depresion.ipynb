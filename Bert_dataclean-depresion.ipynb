{
 "cells": [
  {
   "cell_type": "code",
   "execution_count": 3,
   "metadata": {},
   "outputs": [],
   "source": [
    "import pandas as pd\n",
    "import numpy as np\n",
    "from sklearn.model_selection import train_test_split\n",
    "import googletrans\n",
    "from googletrans import Translator\n",
    "import matplotlib.pyplot as plt\n",
    "#https://www.kaggle.com/nikhileswarkomati/suicide-watch"
   ]
  },
  {
   "cell_type": "markdown",
   "metadata": {},
   "source": [
    "# first dataset\n"
   ]
  },
  {
   "cell_type": "code",
   "execution_count": 2,
   "metadata": {},
   "outputs": [
    {
     "name": "stdout",
     "output_type": "stream",
     "text": [
      "<_io.TextIOWrapper name='sentiment_tweets3.csv' mode='r' encoding='cp1252'>\n"
     ]
    }
   ],
   "source": [
    "with open(r'sentiment_tweets3.csv') as f:\n",
    "    print(f)"
   ]
  },
  {
   "cell_type": "code",
   "execution_count": 3,
   "metadata": {},
   "outputs": [
    {
     "data": {
      "text/html": [
       "<div>\n",
       "<style scoped>\n",
       "    .dataframe tbody tr th:only-of-type {\n",
       "        vertical-align: middle;\n",
       "    }\n",
       "\n",
       "    .dataframe tbody tr th {\n",
       "        vertical-align: top;\n",
       "    }\n",
       "\n",
       "    .dataframe thead th {\n",
       "        text-align: right;\n",
       "    }\n",
       "</style>\n",
       "<table border=\"1\" class=\"dataframe\">\n",
       "  <thead>\n",
       "    <tr style=\"text-align: right;\">\n",
       "      <th></th>\n",
       "      <th>index</th>\n",
       "      <th>text</th>\n",
       "      <th>out</th>\n",
       "    </tr>\n",
       "  </thead>\n",
       "  <tbody>\n",
       "    <tr>\n",
       "      <th>0</th>\n",
       "      <td>106</td>\n",
       "      <td>just had a real good moment. i missssssssss hi...</td>\n",
       "      <td>0</td>\n",
       "    </tr>\n",
       "    <tr>\n",
       "      <th>1</th>\n",
       "      <td>217</td>\n",
       "      <td>is reading manga  http://plurk.com/p/mzp1e</td>\n",
       "      <td>0</td>\n",
       "    </tr>\n",
       "    <tr>\n",
       "      <th>2</th>\n",
       "      <td>220</td>\n",
       "      <td>@comeagainjen http://twitpic.com/2y2lx - http:...</td>\n",
       "      <td>0</td>\n",
       "    </tr>\n",
       "    <tr>\n",
       "      <th>3</th>\n",
       "      <td>288</td>\n",
       "      <td>@lapcat Need to send 'em to my accountant tomo...</td>\n",
       "      <td>0</td>\n",
       "    </tr>\n",
       "    <tr>\n",
       "      <th>4</th>\n",
       "      <td>540</td>\n",
       "      <td>ADD ME ON MYSPACE!!!  myspace.com/LookThunder</td>\n",
       "      <td>0</td>\n",
       "    </tr>\n",
       "  </tbody>\n",
       "</table>\n",
       "</div>"
      ],
      "text/plain": [
       "  index                                               text out\n",
       "0   106  just had a real good moment. i missssssssss hi...   0\n",
       "1   217         is reading manga  http://plurk.com/p/mzp1e   0\n",
       "2   220  @comeagainjen http://twitpic.com/2y2lx - http:...   0\n",
       "3   288  @lapcat Need to send 'em to my accountant tomo...   0\n",
       "4   540      ADD ME ON MYSPACE!!!  myspace.com/LookThunder   0"
      ]
     },
     "execution_count": 3,
     "metadata": {},
     "output_type": "execute_result"
    }
   ],
   "source": [
    "data=pd.read_csv(r'sentiment_tweets3.csv',encoding='UTF-8')\n",
    "data=pd.DataFrame(data.values, columns = [\"index\",\"text\",'out'])\n",
    "data.head()"
   ]
  },
  {
   "cell_type": "code",
   "execution_count": 4,
   "metadata": {},
   "outputs": [],
   "source": [
    "x1=data.text\n",
    "y1=data.out"
   ]
  },
  {
   "cell_type": "markdown",
   "metadata": {},
   "source": [
    "# second data set"
   ]
  },
  {
   "cell_type": "code",
   "execution_count": 1,
   "metadata": {},
   "outputs": [
    {
     "name": "stdout",
     "output_type": "stream",
     "text": [
      "<_io.TextIOWrapper name='tweets.csv' mode='r' encoding='cp1252'>\n"
     ]
    }
   ],
   "source": [
    "with open(r'tweets.csv') as f:\n",
    "    print(f)"
   ]
  },
  {
   "cell_type": "code",
   "execution_count": 2,
   "metadata": {},
   "outputs": [
    {
     "ename": "NameError",
     "evalue": "name 'pd' is not defined",
     "output_type": "error",
     "traceback": [
      "\u001b[1;31m---------------------------------------------------------------------------\u001b[0m",
      "\u001b[1;31mNameError\u001b[0m                                 Traceback (most recent call last)",
      "\u001b[1;32m<ipython-input-2-c1855518cb40>\u001b[0m in \u001b[0;36m<module>\u001b[1;34m\u001b[0m\n\u001b[1;32m----> 1\u001b[1;33m \u001b[0mdata2\u001b[0m\u001b[1;33m=\u001b[0m\u001b[0mpd\u001b[0m\u001b[1;33m.\u001b[0m\u001b[0mread_csv\u001b[0m\u001b[1;33m(\u001b[0m\u001b[1;34mr'tweets.csv'\u001b[0m\u001b[1;33m,\u001b[0m\u001b[0mencoding\u001b[0m\u001b[1;33m=\u001b[0m\u001b[1;34m'UTF-8'\u001b[0m\u001b[1;33m)\u001b[0m\u001b[1;33m\u001b[0m\u001b[1;33m\u001b[0m\u001b[0m\n\u001b[0m\u001b[0;32m      2\u001b[0m \u001b[1;31m#data2=pd.DataFrame(data2.values, columns = [\"index\",\"text\",'out'])\u001b[0m\u001b[1;33m\u001b[0m\u001b[1;33m\u001b[0m\u001b[1;33m\u001b[0m\u001b[0m\n\u001b[0;32m      3\u001b[0m \u001b[0mdata2\u001b[0m\u001b[1;33m.\u001b[0m\u001b[0mhead\u001b[0m\u001b[1;33m(\u001b[0m\u001b[1;33m)\u001b[0m\u001b[1;33m\u001b[0m\u001b[1;33m\u001b[0m\u001b[0m\n\u001b[0;32m      4\u001b[0m \u001b[1;31m#https://drive.google.com/drive/folders/1CxSwUTe3ZV449MqvrH2AWbG_9mTck_Ig\u001b[0m\u001b[1;33m\u001b[0m\u001b[1;33m\u001b[0m\u001b[1;33m\u001b[0m\u001b[0m\n",
      "\u001b[1;31mNameError\u001b[0m: name 'pd' is not defined"
     ]
    }
   ],
   "source": [
    "data2=pd.read_csv(r'tweets.csv',encoding='UTF-8')\n",
    "#data2=pd.DataFrame(data2.values, columns = [\"index\",\"text\",'out'])\n",
    "data2.head()\n",
    "#https://drive.google.com/drive/folders/1CxSwUTe3ZV449MqvrH2AWbG_9mTck_Ig"
   ]
  },
  {
   "cell_type": "code",
   "execution_count": 7,
   "metadata": {},
   "outputs": [],
   "source": [
    "x2=data2.tweet\n",
    "y2=np.ones(x2.shape)"
   ]
  },
  {
   "cell_type": "code",
   "execution_count": 8,
   "metadata": {},
   "outputs": [],
   "source": [
    "x1n=x1.to_numpy()\n",
    "x2n=x2.to_numpy()\n",
    "y1n=y1.to_numpy()"
   ]
  },
  {
   "cell_type": "code",
   "execution_count": 9,
   "metadata": {},
   "outputs": [],
   "source": [
    "x_pre=np.concatenate((x1n,x2n))\n",
    "y_pre=np.concatenate((y1n,y2))"
   ]
  },
  {
   "cell_type": "markdown",
   "metadata": {},
   "source": [
    "## visualize"
   ]
  },
  {
   "cell_type": "code",
   "execution_count": 10,
   "metadata": {},
   "outputs": [
    {
     "data": {
      "text/plain": [
       "<BarContainer object of 2 artists>"
      ]
     },
     "execution_count": 10,
     "metadata": {},
     "output_type": "execute_result"
    },
    {
     "data": {
      "image/png": "[encoded data removed]",
      "text/plain": [
       "<Figure size 432x288 with 1 Axes>"
      ]
     },
     "metadata": {
      "needs_background": "light"
     },
     "output_type": "display_data"
    }
   ],
   "source": [
    "plt.bar([0,1],(np.count_nonzero(y_pre==0),np.count_nonzero(y_pre==1)))"
   ]
  },
  {
   "cell_type": "code",
   "execution_count": 11,
   "metadata": {},
   "outputs": [
    {
     "data": {
      "text/plain": [
       "19176"
      ]
     },
     "execution_count": 11,
     "metadata": {},
     "output_type": "execute_result"
    }
   ],
   "source": [
    "np.count_nonzero(y_pre==1)-np.count_nonzero(y_pre==0)"
   ]
  },
  {
   "cell_type": "markdown",
   "metadata": {},
   "source": [
    "# dataset 3 only for happy texts"
   ]
  },
  {
   "cell_type": "markdown",
   "metadata": {},
   "source": [
    "### target: the polarity of the tweet (0 = negative, 2 = neutral, 4 = positive)"
   ]
  },
  {
   "cell_type": "code",
   "execution_count": 12,
   "metadata": {},
   "outputs": [],
   "source": [
    "data3=pd.read_csv(r'archive\\training.1600000.processed.noemoticon.csv',encoding='cp1252')\n",
    "#data = data.rename(columns={'0': 'sent'}) #rename first colum to sent\n",
    "data3=pd.DataFrame(data3.values, columns = [\"sent\", \"dc1\", \"dc2\",\"dc3\",\"dc4\",\"text\"])\n",
    "data3= data3[data3.sent != 2] #drop neutrals\n",
    "x3=data3.text\n",
    "y3=data3.sent\n",
    "y3[y3 == 4] = 1"
   ]
  },
  {
   "cell_type": "code",
   "execution_count": 13,
   "metadata": {},
   "outputs": [],
   "source": [
    "count=0\n",
    "for l in range(y3.shape[0]):\n",
    "    if y3[l]==1:\n",
    "        count=count+1\n",
    "        x_pre=np.append(x_pre,x3[l])\n",
    "        y_pre=np.append(y_pre,0)\n",
    "    if count==19176:\n",
    "        break"
   ]
  },
  {
   "cell_type": "code",
   "execution_count": 14,
   "metadata": {},
   "outputs": [
    {
     "data": {
      "text/plain": [
       "<BarContainer object of 2 artists>"
      ]
     },
     "execution_count": 14,
     "metadata": {},
     "output_type": "execute_result"
    },
    {
     "data": {
      "image/png": "[encoded data removed]",
      "text/plain": [
       "<Figure size 432x288 with 1 Axes>"
      ]
     },
     "metadata": {
      "needs_background": "light"
     },
     "output_type": "display_data"
    }
   ],
   "source": [
    "plt.bar([0,1],(np.count_nonzero(y_pre==0),np.count_nonzero(y_pre==1)))"
   ]
  },
  {
   "cell_type": "code",
   "execution_count": 15,
   "metadata": {},
   "outputs": [],
   "source": [
    "zeros=[]\n",
    "unos=[]\n",
    "unos_cn_dep=0\n",
    "unos_sn_dep=0\n",
    "for l in range(x_pre.shape[0]):\n",
    "    if y_pre[l]==0:\n",
    "        a_string=x_pre[l]\n",
    "        word_list = a_string.split()\n",
    "        number_of_words = len(word_list)\n",
    "        zeros.append(number_of_words)\n",
    "            \n",
    "    else:\n",
    "        a_string=x_pre[l]\n",
    "        word_list = a_string.split()\n",
    "        number_of_words = len(word_list)\n",
    "        unos.append(number_of_words)\n",
    "        dep=False\n",
    "        for x in word_list:\n",
    "            if \"depression\" in x or \"Depression\" in x:\n",
    "                unos_cn_dep=unos_cn_dep+1\n",
    "                dep=True\n",
    "                break\n",
    "        if dep==False:\n",
    "            unos_sn_dep=unos_sn_dep+1\n",
    "            \n"
   ]
  },
  {
   "cell_type": "code",
   "execution_count": 16,
   "metadata": {},
   "outputs": [],
   "source": [
    "list_setz = list(set(zeros))\n",
    "valoresz=[]\n",
    "for x in list_setz:\n",
    "    num=zeros.count(x)\n",
    "    valoresz.append(num)\n",
    "    \n",
    "list_setu= list(set(unos))\n",
    "valoresu=[]\n",
    "for x in list_setu:\n",
    "    num=unos.count(x)\n",
    "    valoresu.append(num)"
   ]
  },
  {
   "cell_type": "code",
   "execution_count": 17,
   "metadata": {},
   "outputs": [
    {
     "data": {
      "text/plain": [
       "<BarContainer object of 34 artists>"
      ]
     },
     "execution_count": 17,
     "metadata": {},
     "output_type": "execute_result"
    },
    {
     "data": {
      "image/png": "[encoded data removed]",
      "text/plain": [
       "<Figure size 432x288 with 1 Axes>"
      ]
     },
     "metadata": {
      "needs_background": "light"
     },
     "output_type": "display_data"
    }
   ],
   "source": [
    "plt.title('number of words in non depressed texts')\n",
    "plt.bar(list_setz,valoresz)"
   ]
  },
  {
   "cell_type": "code",
   "execution_count": 18,
   "metadata": {},
   "outputs": [
    {
     "data": {
      "text/plain": [
       "<BarContainer object of 70 artists>"
      ]
     },
     "execution_count": 18,
     "metadata": {},
     "output_type": "execute_result"
    },
    {
     "data": {
      "image/png": "[encoded data removed]",
      "text/plain": [
       "<Figure size 432x288 with 1 Axes>"
      ]
     },
     "metadata": {
      "needs_background": "light"
     },
     "output_type": "display_data"
    }
   ],
   "source": [
    "plt.title('number of words in depressed texts')\n",
    "plt.bar(list_setu,valoresu)"
   ]
  },
  {
   "cell_type": "code",
   "execution_count": 19,
   "metadata": {
    "scrolled": true
   },
   "outputs": [
    {
     "data": {
      "text/plain": [
       "<BarContainer object of 2 artists>"
      ]
     },
     "execution_count": 19,
     "metadata": {},
     "output_type": "execute_result"
    },
    {
     "data": {
      "image/png": "[encoded data removed]",
      "text/plain": [
       "<Figure size 432x288 with 1 Axes>"
      ]
     },
     "metadata": {
      "needs_background": "light"
     },
     "output_type": "display_data"
    }
   ],
   "source": [
    "plt.bar(['doesnt use the word depression','uses the word depression'],(unos_sn_dep,unos_cn_dep))"
   ]
  },
  {
   "cell_type": "code",
   "execution_count": 29,
   "metadata": {},
   "outputs": [
    {
     "name": "stdout",
     "output_type": "stream",
     "text": [
      "<_io.TextIOWrapper name='Tweets_depre/tweets_final_1_clean.csv' mode='r' encoding='cp1252'>\n"
     ]
    }
   ],
   "source": [
    "with open(r'Tweets_depre/tweets_final_1_clean.csv') as f:\n",
    "    print(f)"
   ]
  },
  {
   "cell_type": "markdown",
   "metadata": {},
   "source": [
    "# Dataset 4 nivelating the depression word"
   ]
  },
  {
   "cell_type": "code",
   "execution_count": null,
   "metadata": {},
   "outputs": [],
   "source": [
    "#https://github.com/swcwang/depression-detection"
   ]
  },
  {
   "cell_type": "code",
   "execution_count": 39,
   "metadata": {},
   "outputs": [],
   "source": [
    "xl=np.empty((1,))\n",
    "yl=np.empty((1,))\n",
    "for filename in os.listdir('Tweets_depre'):  \n",
    "    file=r'Tweets_depre/'+filename\n",
    "    df=pd.read_csv(file,encoding=\"cp1252\")\n",
    "    x_d=df.tweet_processed.to_numpy()\n",
    "    y_d=df.target.to_numpy()\n",
    "    xl=np.concatenate((xl,x_d))\n",
    "    yl=np.concatenate((yl,y_d))\n",
    "xl=xl[1:]\n",
    "yl=yl[1:]"
   ]
  },
  {
   "cell_type": "code",
   "execution_count": 42,
   "metadata": {},
   "outputs": [],
   "source": [
    "zeros=[]\n",
    "unos=[]\n",
    "unos_cn_dep=0\n",
    "unos_sn_dep=0\n",
    "for l in range(xl.shape[0]):\n",
    "    if yl[l]==0:\n",
    "        a_string=xl[l]\n",
    "        word_list = a_string.split()\n",
    "        number_of_words = len(word_list)\n",
    "        zeros.append(number_of_words)\n",
    "            \n",
    "    else:\n",
    "        a_string=xl[l]\n",
    "        word_list = a_string.split()\n",
    "        number_of_words = len(word_list)\n",
    "        unos.append(number_of_words)\n",
    "        dep=False\n",
    "        for x in word_list:\n",
    "            if \"depression\" in x or \"Depression\" in x:\n",
    "                unos_cn_dep=unos_cn_dep+1\n",
    "                dep=True\n",
    "                break\n",
    "        if dep==False:\n",
    "            unos_sn_dep=unos_sn_dep+1"
   ]
  },
  {
   "cell_type": "code",
   "execution_count": 43,
   "metadata": {},
   "outputs": [
    {
     "data": {
      "text/plain": [
       "<BarContainer object of 2 artists>"
      ]
     },
     "execution_count": 43,
     "metadata": {},
     "output_type": "execute_result"
    },
    {
     "data": {
      "image/png": "[encoded data removed]",
      "text/plain": [
       "<Figure size 432x288 with 1 Axes>"
      ]
     },
     "metadata": {
      "needs_background": "light"
     },
     "output_type": "display_data"
    }
   ],
   "source": [
    "plt.bar(['doesnt use the word depression','uses the word depression'],(unos_sn_dep,unos_cn_dep))"
   ]
  },
  {
   "cell_type": "code",
   "execution_count": 44,
   "metadata": {},
   "outputs": [
    {
     "data": {
      "text/plain": [
       "<BarContainer object of 2 artists>"
      ]
     },
     "execution_count": 44,
     "metadata": {},
     "output_type": "execute_result"
    },
    {
     "data": {
      "image/png": "[encoded data removed]",
      "text/plain": [
       "<Figure size 432x288 with 1 Axes>"
      ]
     },
     "metadata": {
      "needs_background": "light"
     },
     "output_type": "display_data"
    }
   ],
   "source": [
    "plt.bar([0,1],(np.count_nonzero(yl==0),np.count_nonzero(yl==1)))"
   ]
  },
  {
   "cell_type": "code",
   "execution_count": 78,
   "metadata": {},
   "outputs": [],
   "source": [
    "import random\n",
    "xt=[]\n",
    "yt=[]\n",
    "for u in range(1000):\n",
    "    elejido=random.randint(0, x_pre.shape[0])\n",
    "    xt.append(x_pre[elejido])\n",
    "    yt.append(y_pre[elejido])\n",
    "xt=np.array(xt)\n",
    "yt=np.array(yt)\n",
    "x_pre2=np.concatenate((xl,xt))\n",
    "y_pre2=np.concatenate((yl,yt))\n",
    "y_pre2=y_pre2.astype(int)"
   ]
  },
  {
   "cell_type": "code",
   "execution_count": 79,
   "metadata": {},
   "outputs": [],
   "source": [
    "bert_df = pd.DataFrame({\n",
    "    'id': range(len(x_pre2)),\n",
    "    'label': y_pre2,\n",
    "    'alpha': ['q']*x_pre2.shape[0],\n",
    "    'text': x_pre2\n",
    "})\n",
    "train_pre,test= train_test_split(bert_df)\n",
    "dev_bert_df,train_bert_df=train_test_split(train_pre)\n",
    "test_bert_df=test.drop(columns=['label', 'alpha'])\n",
    "train_bert_df.to_csv('data/train.tsv', sep='\\t', index=False, header=False)\n",
    "dev_bert_df.to_csv('data/dev.tsv', sep='\\t', index=False, header=False)\n",
    "test_bert_df.to_csv('data/test.tsv', sep='\\t', index=False, header=False)"
   ]
  },
  {
   "cell_type": "code",
   "execution_count": 82,
   "metadata": {},
   "outputs": [],
   "source": [
    "#full dataset\n",
    "df = pd.DataFrame({\n",
    "    'id': range(len(x_pre2)),\n",
    "    'label': y_pre2,\n",
    "    'text': x_pre2\n",
    "})\n",
    "df.to_csv('data/Fulldata2.csv', index=False, header=True)"
   ]
  },
  {
   "cell_type": "markdown",
   "metadata": {},
   "source": [
    "# Data 2 visualizacion"
   ]
  },
  {
   "cell_type": "code",
   "execution_count": 11,
   "metadata": {},
   "outputs": [],
   "source": [
    "datax=pd.read_csv(r'Data\\Fulldata2.csv')\n",
    "datax.head()\n",
    "x_pre3=datax.text.to_numpy()\n",
    "y_pre3=datax.label.to_numpy()"
   ]
  },
  {
   "cell_type": "code",
   "execution_count": 16,
   "metadata": {},
   "outputs": [
    {
     "data": {
      "text/plain": [
       "<BarContainer object of 2 artists>"
      ]
     },
     "execution_count": 16,
     "metadata": {},
     "output_type": "execute_result"
    },
    {
     "data": {
      "image/png": "[encoded data removed]",
      "text/plain": [
       "<Figure size 432x288 with 1 Axes>"
      ]
     },
     "metadata": {
      "needs_background": "light"
     },
     "output_type": "display_data"
    }
   ],
   "source": [
    "plt.bar(['Non depresive','Depresive'],(np.count_nonzero(y_pre3==0),np.count_nonzero(y_pre3==1)),color=['b','r'])"
   ]
  },
  {
   "cell_type": "code",
   "execution_count": 19,
   "metadata": {},
   "outputs": [],
   "source": [
    "zeros=[]\n",
    "unos=[]\n",
    "unos_cn_dep=0\n",
    "unos_sn_dep=0\n",
    "for l in range(x_pre3.shape[0]):\n",
    "    if y_pre3[l]==0:\n",
    "        a_string=x_pre3[l]\n",
    "        word_list = a_string.split()\n",
    "        number_of_words = len(word_list)\n",
    "        zeros.append(number_of_words)\n",
    "            \n",
    "    else:\n",
    "        a_string=x_pre3[l]\n",
    "        word_list = a_string.split()\n",
    "        number_of_words = len(word_list)\n",
    "        unos.append(number_of_words)\n",
    "        dep=False\n",
    "        for x in word_list:\n",
    "            if \"depression\" in x or \"Depression\" in x:\n",
    "                unos_cn_dep=unos_cn_dep+1\n",
    "                dep=True\n",
    "                break\n",
    "        if dep==False:\n",
    "            unos_sn_dep=unos_sn_dep+1"
   ]
  },
  {
   "cell_type": "code",
   "execution_count": 21,
   "metadata": {},
   "outputs": [],
   "source": [
    "list_setz = list(set(zeros))\n",
    "valoresz=[]\n",
    "for x in list_setz:\n",
    "    num=zeros.count(x)\n",
    "    valoresz.append(num)\n",
    "    \n",
    "list_setu= list(set(unos))\n",
    "valoresu=[]\n",
    "for x in list_setu:\n",
    "    num=unos.count(x)\n",
    "    valoresu.append(num)"
   ]
  },
  {
   "cell_type": "code",
   "execution_count": 24,
   "metadata": {},
   "outputs": [
    {
     "data": {
      "text/plain": [
       "<BarContainer object of 49 artists>"
      ]
     },
     "execution_count": 24,
     "metadata": {},
     "output_type": "execute_result"
    },
    {
     "data": {
      "image/png": "[encoded data removed]",
      "text/plain": [
       "<Figure size 432x288 with 1 Axes>"
      ]
     },
     "metadata": {
      "needs_background": "light"
     },
     "output_type": "display_data"
    }
   ],
   "source": [
    "plt.title('number of words in non depressed texts')\n",
    "plt.bar(list_setz,valoresz)"
   ]
  },
  {
   "cell_type": "code",
   "execution_count": 22,
   "metadata": {},
   "outputs": [
    {
     "data": {
      "text/plain": [
       "<BarContainer object of 60 artists>"
      ]
     },
     "execution_count": 22,
     "metadata": {},
     "output_type": "execute_result"
    },
    {
     "data": {
      "image/png": "[encoded data removed]",
      "text/plain": [
       "<Figure size 432x288 with 1 Axes>"
      ]
     },
     "metadata": {
      "needs_background": "light"
     },
     "output_type": "display_data"
    }
   ],
   "source": [
    "plt.title('number of words in depressed texts')\n",
    "plt.bar(list_setu,valoresu)"
   ]
  },
  {
   "cell_type": "code",
   "execution_count": 25,
   "metadata": {},
   "outputs": [
    {
     "data": {
      "text/plain": [
       "<BarContainer object of 2 artists>"
      ]
     },
     "execution_count": 25,
     "metadata": {},
     "output_type": "execute_result"
    },
    {
     "data": {
      "image/png": "[encoded data removed]",
      "text/plain": [
       "<Figure size 432x288 with 1 Axes>"
      ]
     },
     "metadata": {
      "needs_background": "light"
     },
     "output_type": "display_data"
    }
   ],
   "source": [
    "plt.bar(['doesnt use the word depression','uses the word depression'],(unos_sn_dep,unos_cn_dep),color=['green','blue'])"
   ]
  },
  {
   "cell_type": "markdown",
   "metadata": {},
   "source": [
    "# Data augmentation via translation, not needed anymore"
   ]
  },
  {
   "cell_type": "markdown",
   "metadata": {},
   "source": [
    "translator = Translator()"
   ]
  },
  {
   "cell_type": "markdown",
   "metadata": {},
   "source": [
    "for x in range(y_pre.shape[0]):\n",
    "    if y_pre[x] == 1:\n",
    "        texto=x_pre[x]\n",
    "        print(x)\n",
    "        #japanese\n",
    "        result_trans = translator.translate(text=texto, src='en', dest='ja')\n",
    "        result_back= translator.translate(text=result_trans.text , src='ja', dest='en')\n",
    "        x_pre=np.append(x_pre,result_back.text)\n",
    "        y_pre=np.append(y_pre,1)\n",
    "        #korean\n",
    "        result_trans = translator.translate(text=texto, src='en', dest='ko')\n",
    "        result_back= translator.translate(text=result_trans.text , src='ko', dest='en')\n",
    "        x_pre=np.append(x_pre,result_back.text)\n",
    "        y_pre=np.append(y_pre,1)\n",
    "        #rusian\n",
    "        result_trans = translator.translate(text=texto, src='en', dest='ru')\n",
    "        result_back= translator.translate(text=result_trans.text , src='ru', dest='en')\n",
    "        x_pre=np.append(x_pre,result_back.text)\n",
    "        y_pre=np.append(y_pre,1)\n",
    "      "
   ]
  },
  {
   "cell_type": "markdown",
   "metadata": {},
   "source": [
    "unique, counts = np.unique(y_pre, return_counts=True)\n",
    "print(dict(zip(unique, counts)))"
   ]
  },
  {
   "cell_type": "markdown",
   "metadata": {},
   "source": [
    "# Data preaparation for bert"
   ]
  },
  {
   "cell_type": "code",
   "execution_count": 84,
   "metadata": {},
   "outputs": [],
   "source": [
    "for x in range(len(y_pre)):\n",
    "    y_pre[x]=int(y_pre[x])\n",
    "    "
   ]
  },
  {
   "cell_type": "code",
   "execution_count": 85,
   "metadata": {},
   "outputs": [],
   "source": [
    "#full dataset\n",
    "df = pd.DataFrame({\n",
    "    'id': range(len(x_pre)),\n",
    "    'label': y_pre,\n",
    "    'text': x_pre\n",
    "})\n",
    "df.to_csv('data/Fulldata.csv', index=False, header=True)"
   ]
  },
  {
   "cell_type": "code",
   "execution_count": null,
   "metadata": {},
   "outputs": [],
   "source": [
    "bert_df = pd.DataFrame({\n",
    "    'id': range(len(x_pre)),\n",
    "    'label': y_pre,\n",
    "    'alpha': ['q']*x_pre.shape[0],\n",
    "    'text': x_pre\n",
    "})"
   ]
  },
  {
   "cell_type": "code",
   "execution_count": null,
   "metadata": {},
   "outputs": [],
   "source": [
    "train_pre,test= train_test_split(bert_df)\n",
    "dev_bert_df,train_bert_df=train_test_split(train_pre)"
   ]
  },
  {
   "cell_type": "code",
   "execution_count": null,
   "metadata": {},
   "outputs": [],
   "source": [
    "test_bert_df=test.drop(columns=['label', 'alpha'])"
   ]
  },
  {
   "cell_type": "code",
   "execution_count": null,
   "metadata": {},
   "outputs": [],
   "source": [
    "train_bert_df.to_csv('data/train.tsv', sep='\\t', index=False, header=False)\n",
    "dev_bert_df.to_csv('data/dev.tsv', sep='\\t', index=False, header=False)\n",
    "test_bert_df.to_csv('data/test.tsv', sep='\\t', index=False, header=False)"
   ]
  },
  {
   "cell_type": "markdown",
   "metadata": {},
   "source": [
    "# Metricas"
   ]
  },
  {
   "cell_type": "code",
   "execution_count": 93,
   "metadata": {},
   "outputs": [],
   "source": [
    "dataz=pd.read_csv(r'vali\\test_results.tsv',sep='\\t',header=None)\n",
    "dataz=pd.DataFrame(dataz.values, columns = [\"z\",'u'])\n",
    "zero=dataz.z.to_numpy()\n",
    "uno=dataz.u.to_numpy()"
   ]
  },
  {
   "cell_type": "code",
   "execution_count": 94,
   "metadata": {},
   "outputs": [
    {
     "name": "stdout",
     "output_type": "stream",
     "text": [
      "<class 'pandas.core.frame.DataFrame'>\n",
      "RangeIndex: 749 entries, 0 to 748\n",
      "Data columns (total 2 columns):\n",
      " #   Column  Non-Null Count  Dtype  \n",
      "---  ------  --------------  -----  \n",
      " 0   z       749 non-null    float64\n",
      " 1   u       749 non-null    float64\n",
      "dtypes: float64(2)\n",
      "memory usage: 11.8 KB\n"
     ]
    }
   ],
   "source": [
    "dataz.info()"
   ]
  },
  {
   "cell_type": "code",
   "execution_count": 95,
   "metadata": {},
   "outputs": [
    {
     "name": "stdout",
     "output_type": "stream",
     "text": [
      "<class 'pandas.core.frame.DataFrame'>\n",
      "RangeIndex: 750 entries, 0 to 749\n",
      "Data columns (total 2 columns):\n",
      " #   Column  Non-Null Count  Dtype \n",
      "---  ------  --------------  ----- \n",
      " 0   id      750 non-null    object\n",
      " 1   text    750 non-null    object\n",
      "dtypes: object(2)\n",
      "memory usage: 11.8+ KB\n"
     ]
    }
   ],
   "source": [
    "datay.info()"
   ]
  },
  {
   "cell_type": "code",
   "execution_count": 96,
   "metadata": {},
   "outputs": [],
   "source": [
    "datay=pd.read_csv(r'vali\\test.tsv',sep='\\t',header=None)\n",
    "datay=pd.DataFrame(datay.values, columns = [\"id\",'text'])\n",
    "datay.head()\n",
    "ide=datay.id.to_numpy()\n",
    "text1=datay.text.to_numpy()\n",
    "ide=ide[1:]\n",
    "text1=text1[1:]"
   ]
  },
  {
   "cell_type": "code",
   "execution_count": 97,
   "metadata": {},
   "outputs": [],
   "source": [
    "datax=pd.read_csv(r'Data\\Fulldata2.csv')\n",
    "datax.head()\n",
    "label_r=datax.label.to_numpy()\n",
    "text2=datax.text.to_numpy()"
   ]
  },
  {
   "cell_type": "code",
   "execution_count": 98,
   "metadata": {},
   "outputs": [],
   "source": [
    "y_real=[]\n",
    "count=0\n",
    "for x in ide:\n",
    "    assert text1[count]==text2[x]\n",
    "    y_real.append(label_r[x])\n",
    "    count=count+1"
   ]
  },
  {
   "cell_type": "code",
   "execution_count": 110,
   "metadata": {},
   "outputs": [],
   "source": [
    "y_pred=[]\n",
    "for l in range(len(uno)):\n",
    "    if zero[l]>uno[l]:\n",
    "        y_pred.append(0)\n",
    "    else:\n",
    "        y_pred.append(1)\n",
    "        "
   ]
  },
  {
   "cell_type": "code",
   "execution_count": 111,
   "metadata": {},
   "outputs": [],
   "source": [
    "y_true=y_real\n",
    "y_pred=y_pred"
   ]
  },
  {
   "cell_type": "code",
   "execution_count": 112,
   "metadata": {},
   "outputs": [],
   "source": [
    "y_true=np.array(y_true)\n",
    "y_pred=np.array(y_pred)"
   ]
  },
  {
   "cell_type": "code",
   "execution_count": 113,
   "metadata": {},
   "outputs": [],
   "source": [
    "y_true=y_true.astype(int)\n",
    "y_pred=y_pred.astype(int)"
   ]
  },
  {
   "cell_type": "code",
   "execution_count": 1,
   "metadata": {},
   "outputs": [],
   "source": [
    "from sklearn.metrics import accuracy_score\n",
    "from sklearn.metrics import confusion_matrix\n",
    "from sklearn.metrics import precision_score\n"
   ]
  },
  {
   "cell_type": "code",
   "execution_count": 118,
   "metadata": {},
   "outputs": [
    {
     "data": {
      "text/plain": [
       "array([[349,  90],\n",
       "       [ 85, 225]], dtype=int64)"
      ]
     },
     "execution_count": 118,
     "metadata": {},
     "output_type": "execute_result"
    }
   ],
   "source": [
    "confusion_matrix(y_true, y_pred)"
   ]
  },
  {
   "cell_type": "code",
   "execution_count": null,
   "metadata": {},
   "outputs": [],
   "source": []
  }
 ],
 "metadata": {
  "kernelspec": {
   "display_name": "Python 3",
   "language": "python",
   "name": "python3"
  },
  "language_info": {
   "codemirror_mode": {
    "name": "ipython",
    "version": 3
   },
   "file_extension": ".py",
   "mimetype": "text/x-python",
   "name": "python",
   "nbconvert_exporter": "python",
   "pygments_lexer": "ipython3",
   "version": "3.8.5"
  }
 },
 "nbformat": 4,
 "nbformat_minor": 4
}
